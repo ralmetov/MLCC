{
  "cells": [
    {
      "cell_type": "code",
      "execution_count": null,
      "metadata": {
        "cellView": "form",
        "colab": {},
        "colab_type": "code",
        "id": "wDlWLbfkJtvu"
      },
      "outputs": [],
      "source": [
        "#@title Copyright 2020 Google LLC. Double-click here for license information.\n",
        "# Licensed under the Apache License, Version 2.0 (the \"License\");\n",
        "# you may not use this file except in compliance with the License.\n",
        "# You may obtain a copy of the License at\n",
        "#\n",
        "# https://www.apache.org/licenses/LICENSE-2.0\n",
        "#\n",
        "# Unless required by applicable law or agreed to in writing, software\n",
        "# distributed under the License is distributed on an \"AS IS\" BASIS,\n",
        "# WITHOUT WARRANTIES OR CONDITIONS OF ANY KIND, either express or implied.\n",
        "# See the License for the specific language governing permissions and\n",
        "# limitations under the License."
      ]
    },
    {
      "attachments": {},
      "cell_type": "markdown",
      "metadata": {
        "colab_type": "text",
        "id": "TL5y5fY9Jy_x"
      },
      "source": [
        "# Linear Regression with a Real Dataset\n",
        "\n",
        "This Colab uses a real dataset to predict the prices of houses in California.   \n",
        "\n",
        "\n",
        "\n",
        "\n"
      ]
    },
    {
      "attachments": {},
      "cell_type": "markdown",
      "metadata": {
        "colab_type": "text",
        "id": "h8wtceyJj2uX"
      },
      "source": [
        "## Learning Objectives:\n",
        "\n",
        "After doing this Colab, you'll know how to do the following:\n",
        "\n",
        "  * Read a .csv file into a [pandas](https://developers.google.com/machine-learning/glossary/#pandas) DataFrame.\n",
        "  * Examine a [dataset](https://developers.google.com/machine-learning/glossary/#data_set). \n",
        "  * Experiment with different [features](https://developers.google.com/machine-learning/glossary/#feature) in building a model.\n",
        "  * Tune the model's [hyperparameters](https://developers.google.com/machine-learning/glossary/#hyperparameter)."
      ]
    },
    {
      "attachments": {},
      "cell_type": "markdown",
      "metadata": {
        "colab_type": "text",
        "id": "JJZEgJQSjyK4"
      },
      "source": [
        "## The Dataset\n",
        "  \n",
        "The [dataset for this exercise](https://developers.google.com/machine-learning/crash-course/california-housing-data-description) is based on 1990 census data from California. The dataset is old but still provides a great opportunity to learn about machine learning programming."
      ]
    },
    {
      "attachments": {},
      "cell_type": "markdown",
      "metadata": {
        "colab_type": "text",
        "id": "tX_umRMMsa3z"
      },
      "source": [
        "## Use the right version of TensorFlow\n",
        "\n",
        "The following hidden code cell ensures that the Colab will run on TensorFlow 2.X."
      ]
    },
    {
      "cell_type": "code",
      "execution_count": 1,
      "metadata": {
        "cellView": "form",
        "colab": {},
        "colab_type": "code",
        "id": "lM75uNH-sTv2"
      },
      "outputs": [
        {
          "name": "stderr",
          "output_type": "stream",
          "text": [
            "UsageError: Line magic function `%tensorflow_version` not found.\n"
          ]
        }
      ],
      "source": [
        "#@title Run on TensorFlow 2.x\n",
        "%tensorflow_version 2.x"
      ]
    },
    {
      "attachments": {},
      "cell_type": "markdown",
      "metadata": {
        "colab_type": "text",
        "id": "xchnxAsaKKqO"
      },
      "source": [
        "## Import relevant modules\n",
        "\n",
        "The following hidden code cell imports the necessary code to run the code in the rest of this Colaboratory."
      ]
    },
    {
      "cell_type": "code",
      "execution_count": 2,
      "metadata": {
        "cellView": "form",
        "colab": {},
        "colab_type": "code",
        "id": "9n9_cTveKmse"
      },
      "outputs": [],
      "source": [
        "#@title Import relevant modules\n",
        "import pandas as pd\n",
        "import tensorflow as tf\n",
        "from matplotlib import pyplot as plt\n",
        "\n",
        "# The following lines adjust the granularity of reporting. \n",
        "pd.options.display.max_rows = 10\n",
        "pd.options.display.float_format = \"{:.1f}\".format"
      ]
    },
    {
      "attachments": {},
      "cell_type": "markdown",
      "metadata": {
        "colab_type": "text",
        "id": "X_TaJhU4KcuY"
      },
      "source": [
        "## The dataset\n",
        "\n",
        "Datasets are often stored on disk or at a URL in [.csv format](https://wikipedia.org/wiki/Comma-separated_values). \n",
        "\n",
        "A well-formed .csv file contains column names in the first row, followed by many rows of data.  A comma divides each value in each row. For example, here are the first five rows of the .csv file file holding the California Housing Dataset:\n",
        "\n",
        "```\n",
        "\"longitude\",\"latitude\",\"housing_median_age\",\"total_rooms\",\"total_bedrooms\",\"population\",\"households\",\"median_income\",\"median_house_value\"\n",
        "-114.310000,34.190000,15.000000,5612.000000,1283.000000,1015.000000,472.000000,1.493600,66900.000000\n",
        "-114.470000,34.400000,19.000000,7650.000000,1901.000000,1129.000000,463.000000,1.820000,80100.000000\n",
        "-114.560000,33.690000,17.000000,720.000000,174.000000,333.000000,117.000000,1.650900,85700.000000\n",
        "-114.570000,33.640000,14.000000,1501.000000,337.000000,515.000000,226.000000,3.191700,73400.000000\n",
        "```\n",
        "\n"
      ]
    },
    {
      "attachments": {},
      "cell_type": "markdown",
      "metadata": {
        "colab_type": "text",
        "id": "sSFQkzNlj-l6"
      },
      "source": [
        "### Load the .csv file into a pandas DataFrame\n",
        "\n",
        "This Colab, like many machine learning programs, gathers the .csv file and stores the data in memory as a pandas Dataframe.  pandas is an open source Python library.  The primary datatype in pandas is a DataFrame.  You can imagine a pandas DataFrame as a spreadsheet in which each row is identified by a number and each column by a name. pandas is itself built on another open source Python library called NumPy. If you aren't familiar with these technologies, please view these two quick tutorials:\n",
        "\n",
        "*   [NumPy](https://colab.research.google.com/github/google/eng-edu/blob/master/ml/cc/exercises/numpy_ultraquick_tutorial.ipynb?utm_source=linearregressionreal-colab&utm_medium=colab&utm_campaign=colab-external&utm_content=numpy_tf2-colab&hl=en)\n",
        "*   [Pandas DataFrames](https://colab.research.google.com/github/google/eng-edu/blob/master/ml/cc/exercises/pandas_dataframe_ultraquick_tutorial.ipynb?utm_source=linearregressionreal-colab&utm_medium=colab&utm_campaign=colab-external&utm_content=pandas_tf2-colab&hl=en)\n",
        "\n",
        "The following code cell imports the .csv file into a pandas DataFrame and scales the values in the label (`median_house_value`):"
      ]
    },
    {
      "cell_type": "code",
      "execution_count": 3,
      "metadata": {
        "colab": {},
        "colab_type": "code",
        "id": "JZlvdpyYKx7V"
      },
      "outputs": [
        {
          "data": {
            "text/html": [
              "<div>\n",
              "<style scoped>\n",
              "    .dataframe tbody tr th:only-of-type {\n",
              "        vertical-align: middle;\n",
              "    }\n",
              "\n",
              "    .dataframe tbody tr th {\n",
              "        vertical-align: top;\n",
              "    }\n",
              "\n",
              "    .dataframe thead th {\n",
              "        text-align: right;\n",
              "    }\n",
              "</style>\n",
              "<table border=\"1\" class=\"dataframe\">\n",
              "  <thead>\n",
              "    <tr style=\"text-align: right;\">\n",
              "      <th></th>\n",
              "      <th>longitude</th>\n",
              "      <th>latitude</th>\n",
              "      <th>housing_median_age</th>\n",
              "      <th>total_rooms</th>\n",
              "      <th>total_bedrooms</th>\n",
              "      <th>population</th>\n",
              "      <th>households</th>\n",
              "      <th>median_income</th>\n",
              "      <th>median_house_value</th>\n",
              "    </tr>\n",
              "  </thead>\n",
              "  <tbody>\n",
              "    <tr>\n",
              "      <th>0</th>\n",
              "      <td>-114.3</td>\n",
              "      <td>34.2</td>\n",
              "      <td>15.0</td>\n",
              "      <td>5612.0</td>\n",
              "      <td>1283.0</td>\n",
              "      <td>1015.0</td>\n",
              "      <td>472.0</td>\n",
              "      <td>1.5</td>\n",
              "      <td>66.9</td>\n",
              "    </tr>\n",
              "    <tr>\n",
              "      <th>1</th>\n",
              "      <td>-114.5</td>\n",
              "      <td>34.4</td>\n",
              "      <td>19.0</td>\n",
              "      <td>7650.0</td>\n",
              "      <td>1901.0</td>\n",
              "      <td>1129.0</td>\n",
              "      <td>463.0</td>\n",
              "      <td>1.8</td>\n",
              "      <td>80.1</td>\n",
              "    </tr>\n",
              "    <tr>\n",
              "      <th>2</th>\n",
              "      <td>-114.6</td>\n",
              "      <td>33.7</td>\n",
              "      <td>17.0</td>\n",
              "      <td>720.0</td>\n",
              "      <td>174.0</td>\n",
              "      <td>333.0</td>\n",
              "      <td>117.0</td>\n",
              "      <td>1.7</td>\n",
              "      <td>85.7</td>\n",
              "    </tr>\n",
              "    <tr>\n",
              "      <th>3</th>\n",
              "      <td>-114.6</td>\n",
              "      <td>33.6</td>\n",
              "      <td>14.0</td>\n",
              "      <td>1501.0</td>\n",
              "      <td>337.0</td>\n",
              "      <td>515.0</td>\n",
              "      <td>226.0</td>\n",
              "      <td>3.2</td>\n",
              "      <td>73.4</td>\n",
              "    </tr>\n",
              "    <tr>\n",
              "      <th>4</th>\n",
              "      <td>-114.6</td>\n",
              "      <td>33.6</td>\n",
              "      <td>20.0</td>\n",
              "      <td>1454.0</td>\n",
              "      <td>326.0</td>\n",
              "      <td>624.0</td>\n",
              "      <td>262.0</td>\n",
              "      <td>1.9</td>\n",
              "      <td>65.5</td>\n",
              "    </tr>\n",
              "  </tbody>\n",
              "</table>\n",
              "</div>"
            ],
            "text/plain": [
              "   longitude  latitude  housing_median_age  total_rooms  total_bedrooms  \\\n",
              "0     -114.3      34.2                15.0       5612.0          1283.0   \n",
              "1     -114.5      34.4                19.0       7650.0          1901.0   \n",
              "2     -114.6      33.7                17.0        720.0           174.0   \n",
              "3     -114.6      33.6                14.0       1501.0           337.0   \n",
              "4     -114.6      33.6                20.0       1454.0           326.0   \n",
              "\n",
              "   population  households  median_income  median_house_value  \n",
              "0      1015.0       472.0            1.5                66.9  \n",
              "1      1129.0       463.0            1.8                80.1  \n",
              "2       333.0       117.0            1.7                85.7  \n",
              "3       515.0       226.0            3.2                73.4  \n",
              "4       624.0       262.0            1.9                65.5  "
            ]
          },
          "execution_count": 3,
          "metadata": {},
          "output_type": "execute_result"
        }
      ],
      "source": [
        "# Import the dataset.\n",
        "training_df = pd.read_csv(filepath_or_buffer=\"https://download.mlcc.google.com/mledu-datasets/california_housing_train.csv\")\n",
        "\n",
        "# Scale the label.\n",
        "training_df[\"median_house_value\"] /= 1000.0\n",
        "\n",
        "# Print the first rows of the pandas DataFrame.\n",
        "training_df.head()"
      ]
    },
    {
      "attachments": {},
      "cell_type": "markdown",
      "metadata": {
        "colab_type": "text",
        "id": "5inxx49n4U9u"
      },
      "source": [
        "Scaling `median_house_value` puts the value of each house in units of thousands. Scaling will keep loss values and learning rates in a friendlier range.  \n",
        "\n",
        "Although scaling a label is usually *not* essential, scaling features in a multi-feature model usually *is* essential."
      ]
    },
    {
      "attachments": {},
      "cell_type": "markdown",
      "metadata": {
        "colab_type": "text",
        "id": "yMysi6-3IAbu"
      },
      "source": [
        "## Examine the dataset\n",
        "\n",
        "A large part of most machine learning projects is getting to know your data. The pandas API provides a `describe` function that outputs the following statistics about every column in the DataFrame:\n",
        "\n",
        "* `count`, which is the number of rows in that column. Ideally, `count` contains the same value for every column. \n",
        "\n",
        "* `mean` and `std`, which contain the mean and standard deviation of the values in each column. \n",
        "\n",
        "* `min` and `max`, which contain the lowest and highest values in each column.\n",
        "\n",
        "* `25%`, `50%`, `75%`, which contain various [quantiles](https://developers.google.com/machine-learning/glossary/#quantile)."
      ]
    },
    {
      "cell_type": "code",
      "execution_count": 4,
      "metadata": {
        "colab": {},
        "colab_type": "code",
        "id": "rnUSYKw4LUuh"
      },
      "outputs": [
        {
          "data": {
            "text/html": [
              "<div>\n",
              "<style scoped>\n",
              "    .dataframe tbody tr th:only-of-type {\n",
              "        vertical-align: middle;\n",
              "    }\n",
              "\n",
              "    .dataframe tbody tr th {\n",
              "        vertical-align: top;\n",
              "    }\n",
              "\n",
              "    .dataframe thead th {\n",
              "        text-align: right;\n",
              "    }\n",
              "</style>\n",
              "<table border=\"1\" class=\"dataframe\">\n",
              "  <thead>\n",
              "    <tr style=\"text-align: right;\">\n",
              "      <th></th>\n",
              "      <th>longitude</th>\n",
              "      <th>latitude</th>\n",
              "      <th>housing_median_age</th>\n",
              "      <th>total_rooms</th>\n",
              "      <th>total_bedrooms</th>\n",
              "      <th>population</th>\n",
              "      <th>households</th>\n",
              "      <th>median_income</th>\n",
              "      <th>median_house_value</th>\n",
              "    </tr>\n",
              "  </thead>\n",
              "  <tbody>\n",
              "    <tr>\n",
              "      <th>count</th>\n",
              "      <td>17000.0</td>\n",
              "      <td>17000.0</td>\n",
              "      <td>17000.0</td>\n",
              "      <td>17000.0</td>\n",
              "      <td>17000.0</td>\n",
              "      <td>17000.0</td>\n",
              "      <td>17000.0</td>\n",
              "      <td>17000.0</td>\n",
              "      <td>17000.0</td>\n",
              "    </tr>\n",
              "    <tr>\n",
              "      <th>mean</th>\n",
              "      <td>-119.6</td>\n",
              "      <td>35.6</td>\n",
              "      <td>28.6</td>\n",
              "      <td>2643.7</td>\n",
              "      <td>539.4</td>\n",
              "      <td>1429.6</td>\n",
              "      <td>501.2</td>\n",
              "      <td>3.9</td>\n",
              "      <td>207.3</td>\n",
              "    </tr>\n",
              "    <tr>\n",
              "      <th>std</th>\n",
              "      <td>2.0</td>\n",
              "      <td>2.1</td>\n",
              "      <td>12.6</td>\n",
              "      <td>2179.9</td>\n",
              "      <td>421.5</td>\n",
              "      <td>1147.9</td>\n",
              "      <td>384.5</td>\n",
              "      <td>1.9</td>\n",
              "      <td>116.0</td>\n",
              "    </tr>\n",
              "    <tr>\n",
              "      <th>min</th>\n",
              "      <td>-124.3</td>\n",
              "      <td>32.5</td>\n",
              "      <td>1.0</td>\n",
              "      <td>2.0</td>\n",
              "      <td>1.0</td>\n",
              "      <td>3.0</td>\n",
              "      <td>1.0</td>\n",
              "      <td>0.5</td>\n",
              "      <td>15.0</td>\n",
              "    </tr>\n",
              "    <tr>\n",
              "      <th>25%</th>\n",
              "      <td>-121.8</td>\n",
              "      <td>33.9</td>\n",
              "      <td>18.0</td>\n",
              "      <td>1462.0</td>\n",
              "      <td>297.0</td>\n",
              "      <td>790.0</td>\n",
              "      <td>282.0</td>\n",
              "      <td>2.6</td>\n",
              "      <td>119.4</td>\n",
              "    </tr>\n",
              "    <tr>\n",
              "      <th>50%</th>\n",
              "      <td>-118.5</td>\n",
              "      <td>34.2</td>\n",
              "      <td>29.0</td>\n",
              "      <td>2127.0</td>\n",
              "      <td>434.0</td>\n",
              "      <td>1167.0</td>\n",
              "      <td>409.0</td>\n",
              "      <td>3.5</td>\n",
              "      <td>180.4</td>\n",
              "    </tr>\n",
              "    <tr>\n",
              "      <th>75%</th>\n",
              "      <td>-118.0</td>\n",
              "      <td>37.7</td>\n",
              "      <td>37.0</td>\n",
              "      <td>3151.2</td>\n",
              "      <td>648.2</td>\n",
              "      <td>1721.0</td>\n",
              "      <td>605.2</td>\n",
              "      <td>4.8</td>\n",
              "      <td>265.0</td>\n",
              "    </tr>\n",
              "    <tr>\n",
              "      <th>max</th>\n",
              "      <td>-114.3</td>\n",
              "      <td>42.0</td>\n",
              "      <td>52.0</td>\n",
              "      <td>37937.0</td>\n",
              "      <td>6445.0</td>\n",
              "      <td>35682.0</td>\n",
              "      <td>6082.0</td>\n",
              "      <td>15.0</td>\n",
              "      <td>500.0</td>\n",
              "    </tr>\n",
              "  </tbody>\n",
              "</table>\n",
              "</div>"
            ],
            "text/plain": [
              "       longitude  latitude  housing_median_age  total_rooms  total_bedrooms  \\\n",
              "count    17000.0   17000.0             17000.0      17000.0         17000.0   \n",
              "mean      -119.6      35.6                28.6       2643.7           539.4   \n",
              "std          2.0       2.1                12.6       2179.9           421.5   \n",
              "min       -124.3      32.5                 1.0          2.0             1.0   \n",
              "25%       -121.8      33.9                18.0       1462.0           297.0   \n",
              "50%       -118.5      34.2                29.0       2127.0           434.0   \n",
              "75%       -118.0      37.7                37.0       3151.2           648.2   \n",
              "max       -114.3      42.0                52.0      37937.0          6445.0   \n",
              "\n",
              "       population  households  median_income  median_house_value  \n",
              "count     17000.0     17000.0        17000.0             17000.0  \n",
              "mean       1429.6       501.2            3.9               207.3  \n",
              "std        1147.9       384.5            1.9               116.0  \n",
              "min           3.0         1.0            0.5                15.0  \n",
              "25%         790.0       282.0            2.6               119.4  \n",
              "50%        1167.0       409.0            3.5               180.4  \n",
              "75%        1721.0       605.2            4.8               265.0  \n",
              "max       35682.0      6082.0           15.0               500.0  "
            ]
          },
          "execution_count": 4,
          "metadata": {},
          "output_type": "execute_result"
        }
      ],
      "source": [
        "# Get statistics on the dataset.\n",
        "training_df.describe()\n"
      ]
    },
    {
      "attachments": {},
      "cell_type": "markdown",
      "metadata": {
        "colab_type": "text",
        "id": "f9pcW_Yjtoo8"
      },
      "source": [
        "### Task 1: Identify anomalies in the dataset\n",
        "\n",
        "Do you see any anomalies (strange values) in the data? "
      ]
    },
    {
      "cell_type": "code",
      "execution_count": 6,
      "metadata": {
        "cellView": "form",
        "colab": {},
        "colab_type": "code",
        "id": "UoS7NWRXEs1H"
      },
      "outputs": [],
      "source": [
        "#@title Double-click to view a possible answer.\n",
        "\n",
        "# The maximum value (max) of several columns seems very\n",
        "# high compared to the other quantiles. For example,\n",
        "# example the total_rooms column. Given the quantile\n",
        "# values (25%, 50%, and 75%), you might expect the \n",
        "# max value of total_rooms to be approximately \n",
        "# 5,000 or possibly 10,000. However, the max value \n",
        "# is actually 37,937.\n",
        "\n",
        "# When you see anomalies in a column, become more careful\n",
        "# about using that column as a feature. That said,\n",
        "# anomalies in potential features sometimes mirror \n",
        "# anomalies in the label, which could make the column \n",
        "# be (or seem to be) a powerful feature.\n",
        "# Also, as you will see later in the course, you \n",
        "# might be able to represent (pre-process) raw data \n",
        "# in order to make columns into useful features."
      ]
    },
    {
      "attachments": {},
      "cell_type": "markdown",
      "metadata": {
        "colab_type": "text",
        "id": "3014ezH3C7jT"
      },
      "source": [
        "## Define functions that build and train a model\n",
        "\n",
        "The following code defines two functions:\n",
        "\n",
        "  * `build_model(my_learning_rate)`, which builds a randomly-initialized model.\n",
        "  * `train_model(model, feature, label, epochs)`, which trains the model from the examples (feature and label) you pass. \n",
        "\n",
        "Since you don't need to understand model building code right now, we've hidden this code cell.  You may optionally double-click the following headline to see the code that builds and trains a model."
      ]
    },
    {
      "cell_type": "code",
      "execution_count": 7,
      "metadata": {
        "cellView": "form",
        "colab": {},
        "colab_type": "code",
        "id": "pedD5GhlDC-y"
      },
      "outputs": [
        {
          "name": "stdout",
          "output_type": "stream",
          "text": [
            "Defined the create_model and traing_model functions.\n"
          ]
        }
      ],
      "source": [
        "#@title Define the functions that build and train a model\n",
        "def build_model(my_learning_rate):\n",
        "  \"\"\"Create and compile a simple linear regression model.\"\"\"\n",
        "  # Most simple tf.keras models are sequential.\n",
        "  model = tf.keras.models.Sequential()\n",
        "\n",
        "  # Describe the topography of the model.\n",
        "  # The topography of a simple linear regression model\n",
        "  # is a single node in a single layer.\n",
        "  model.add(tf.keras.layers.Dense(units=1, \n",
        "                                  input_shape=(1,)))\n",
        "\n",
        "  # Compile the model topography into code that TensorFlow can efficiently\n",
        "  # execute. Configure training to minimize the model's mean squared error. \n",
        "  model.compile(optimizer=tf.keras.optimizers.RMSprop(lr=my_learning_rate),\n",
        "                loss=\"mean_squared_error\",\n",
        "                metrics=[tf.keras.metrics.RootMeanSquaredError()])\n",
        "\n",
        "  return model        \n",
        "\n",
        "\n",
        "def train_model(model, df, feature, label, epochs, batch_size):\n",
        "  \"\"\"Train the model by feeding it data.\"\"\"\n",
        "\n",
        "  # Feed the model the feature and the label.\n",
        "  # The model will train for the specified number of epochs. \n",
        "  history = model.fit(x=df[feature],\n",
        "                      y=df[label],\n",
        "                      batch_size=None,\n",
        "                      epochs=epochs)\n",
        "\n",
        "  # Gather the trained model's weight and bias.\n",
        "  trained_weight = model.get_weights()[0]\n",
        "  trained_bias = model.get_weights()[1]\n",
        "\n",
        "  # The list of epochs is stored separately from the rest of history.\n",
        "  epochs = history.epoch\n",
        "  \n",
        "  # Isolate the error for each epoch.\n",
        "  hist = pd.DataFrame(history.history)\n",
        "\n",
        "  # To track the progression of training, we're going to take a snapshot\n",
        "  # of the model's root mean squared error at each epoch. \n",
        "  rmse = hist[\"root_mean_squared_error\"]\n",
        "\n",
        "  return trained_weight, trained_bias, epochs, rmse\n",
        "\n",
        "print(\"Defined the create_model and traing_model functions.\")"
      ]
    },
    {
      "attachments": {},
      "cell_type": "markdown",
      "metadata": {
        "colab_type": "text",
        "id": "Ak_TMAzGOIFq"
      },
      "source": [
        "## Define plotting functions\n",
        "\n",
        "The following [matplotlib](https://developers.google.com/machine-learning/glossary/#matplotlib) functions create the following plots:\n",
        "\n",
        "*  a scatter plot of the feature vs. the label, and a line showing the output of the trained model\n",
        "*  a loss curve\n",
        "\n",
        "You may optionally double-click the headline to see the matplotlib code, but note that writing matplotlib code is not an important part of learning ML programming."
      ]
    },
    {
      "cell_type": "code",
      "execution_count": 8,
      "metadata": {
        "cellView": "form",
        "colab": {},
        "colab_type": "code",
        "id": "QF0BFRXTOeR3"
      },
      "outputs": [
        {
          "name": "stdout",
          "output_type": "stream",
          "text": [
            "Defined the plot_the_model and plot_the_loss_curve functions.\n"
          ]
        }
      ],
      "source": [
        "#@title Define the plotting functions\n",
        "def plot_the_model(trained_weight, trained_bias, feature, label):\n",
        "  \"\"\"Plot the trained model against 200 random training examples.\"\"\"\n",
        "\n",
        "  # Label the axes.\n",
        "  plt.xlabel(feature)\n",
        "  plt.ylabel(label)\n",
        "\n",
        "  # Create a scatter plot from 200 random points of the dataset.\n",
        "  random_examples = training_df.sample(n=200)\n",
        "  plt.scatter(random_examples[feature], random_examples[label])\n",
        "\n",
        "  # Create a red line representing the model. The red line starts\n",
        "  # at coordinates (x0, y0) and ends at coordinates (x1, y1).\n",
        "  x0 = 0\n",
        "  y0 = trained_bias\n",
        "  x1 = 10000\n",
        "  y1 = trained_bias + (trained_weight * x1)\n",
        "  plt.plot([x0, x1], [y0, y1], c='r')\n",
        "\n",
        "  # Render the scatter plot and the red line.\n",
        "  plt.show()\n",
        "\n",
        "\n",
        "def plot_the_loss_curve(epochs, rmse):\n",
        "  \"\"\"Plot a curve of loss vs. epoch.\"\"\"\n",
        "\n",
        "  plt.figure()\n",
        "  plt.xlabel(\"Epoch\")\n",
        "  plt.ylabel(\"Root Mean Squared Error\")\n",
        "\n",
        "  plt.plot(epochs, rmse, label=\"Loss\")\n",
        "  plt.legend()\n",
        "  plt.ylim([rmse.min()*0.97, rmse.max()])\n",
        "  plt.show()  \n",
        "\n",
        "print(\"Defined the plot_the_model and plot_the_loss_curve functions.\")"
      ]
    },
    {
      "attachments": {},
      "cell_type": "markdown",
      "metadata": {
        "colab_type": "text",
        "id": "D-IXYVfvM4gD"
      },
      "source": [
        "## Call the model functions\n",
        "\n",
        "An important part of machine learning is determining which [features](https://developers.google.com/machine-learning/glossary/#feature) correlate with the [label](https://developers.google.com/machine-learning/glossary/#label). For example, real-life home-value prediction models typically rely on hundreds of features and synthetic features. However, this model relies on only one feature. For now, you'll arbitrarily use `total_rooms` as that feature. \n"
      ]
    },
    {
      "cell_type": "code",
      "execution_count": 9,
      "metadata": {
        "cellView": "both",
        "colab": {},
        "colab_type": "code",
        "id": "nj3v5EKQFY8s"
      },
      "outputs": [
        {
          "name": "stderr",
          "output_type": "stream",
          "text": [
            "c:\\Users\\almet\\miniconda3\\envs\\new_env\\lib\\site-packages\\keras\\optimizer_v2\\optimizer_v2.py:356: UserWarning: The `lr` argument is deprecated, use `learning_rate` instead.\n",
            "  \"The `lr` argument is deprecated, use `learning_rate` instead.\")\n"
          ]
        },
        {
          "name": "stdout",
          "output_type": "stream",
          "text": [
            "Epoch 1/30\n",
            "532/532 [==============================] - 1s 835us/step - loss: 568207.8125 - root_mean_squared_error: 753.7956\n",
            "Epoch 2/30\n",
            "532/532 [==============================] - 1s 1ms/step - loss: 28164.4492 - root_mean_squared_error: 167.8227\n",
            "Epoch 3/30\n",
            "532/532 [==============================] - 1s 998us/step - loss: 27390.3945 - root_mean_squared_error: 165.5004\n",
            "Epoch 4/30\n",
            "532/532 [==============================] - 1s 972us/step - loss: 26613.7656 - root_mean_squared_error: 163.1373\n",
            "Epoch 5/30\n",
            "532/532 [==============================] - 0s 877us/step - loss: 25961.7441 - root_mean_squared_error: 161.1265\n",
            "Epoch 6/30\n",
            "532/532 [==============================] - 0s 899us/step - loss: 25211.2480 - root_mean_squared_error: 158.7805\n",
            "Epoch 7/30\n",
            "532/532 [==============================] - 0s 853us/step - loss: 24829.7109 - root_mean_squared_error: 157.5745\n",
            "Epoch 8/30\n",
            "532/532 [==============================] - 0s 896us/step - loss: 24119.1660 - root_mean_squared_error: 155.3035\n",
            "Epoch 9/30\n",
            "532/532 [==============================] - 0s 832us/step - loss: 23671.8008 - root_mean_squared_error: 153.8564\n",
            "Epoch 10/30\n",
            "532/532 [==============================] - 1s 974us/step - loss: 22875.3770 - root_mean_squared_error: 151.2461\n",
            "Epoch 11/30\n",
            "532/532 [==============================] - 0s 906us/step - loss: 22651.8574 - root_mean_squared_error: 150.5053\n",
            "Epoch 12/30\n",
            "532/532 [==============================] - 0s 904us/step - loss: 21662.7793 - root_mean_squared_error: 147.1828\n",
            "Epoch 13/30\n",
            "532/532 [==============================] - 0s 896us/step - loss: 21335.6543 - root_mean_squared_error: 146.0673\n",
            "Epoch 14/30\n",
            "532/532 [==============================] - 0s 908us/step - loss: 20954.0781 - root_mean_squared_error: 144.7552\n",
            "Epoch 15/30\n",
            "532/532 [==============================] - 0s 897us/step - loss: 20296.9141 - root_mean_squared_error: 142.4672\n",
            "Epoch 16/30\n",
            "532/532 [==============================] - 0s 919us/step - loss: 19923.7793 - root_mean_squared_error: 141.1516\n",
            "Epoch 17/30\n",
            "532/532 [==============================] - 1s 944us/step - loss: 19545.7148 - root_mean_squared_error: 139.8060\n",
            "Epoch 18/30\n",
            "532/532 [==============================] - 0s 894us/step - loss: 19039.9180 - root_mean_squared_error: 137.9852\n",
            "Epoch 19/30\n",
            "532/532 [==============================] - 0s 935us/step - loss: 18848.7812 - root_mean_squared_error: 137.2909\n",
            "Epoch 20/30\n",
            "532/532 [==============================] - 0s 888us/step - loss: 18264.9453 - root_mean_squared_error: 135.1479\n",
            "Epoch 21/30\n",
            "532/532 [==============================] - 1s 1ms/step - loss: 18033.2754 - root_mean_squared_error: 134.2880\n",
            "Epoch 22/30\n",
            "532/532 [==============================] - 0s 890us/step - loss: 17704.6445 - root_mean_squared_error: 133.0588\n",
            "Epoch 23/30\n",
            "532/532 [==============================] - 0s 874us/step - loss: 17344.6250 - root_mean_squared_error: 131.6990\n",
            "Epoch 24/30\n",
            "532/532 [==============================] - 0s 909us/step - loss: 16933.5957 - root_mean_squared_error: 130.1292\n",
            "Epoch 25/30\n",
            "532/532 [==============================] - 0s 899us/step - loss: 16705.8809 - root_mean_squared_error: 129.2512\n",
            "Epoch 26/30\n",
            "532/532 [==============================] - 0s 826us/step - loss: 16539.2910 - root_mean_squared_error: 128.6052\n",
            "Epoch 27/30\n",
            "532/532 [==============================] - 0s 896us/step - loss: 16375.4785 - root_mean_squared_error: 127.9667\n",
            "Epoch 28/30\n",
            "532/532 [==============================] - 0s 838us/step - loss: 16104.7891 - root_mean_squared_error: 126.9046\n",
            "Epoch 29/30\n",
            "532/532 [==============================] - 0s 903us/step - loss: 15798.7012 - root_mean_squared_error: 125.6929\n",
            "Epoch 30/30\n",
            "532/532 [==============================] - 0s 856us/step - loss: 15676.4453 - root_mean_squared_error: 125.2056\n",
            "\n",
            "The learned weight for your model is 0.0220\n",
            "The learned bias for your model is 125.6184\n",
            "\n"
          ]
        },
        {
          "name": "stderr",
          "output_type": "stream",
          "text": [
            "c:\\Users\\almet\\miniconda3\\envs\\new_env\\lib\\site-packages\\numpy\\core\\_asarray.py:136: VisibleDeprecationWarning: Creating an ndarray from ragged nested sequences (which is a list-or-tuple of lists-or-tuples-or ndarrays with different lengths or shapes) is deprecated. If you meant to do this, you must specify 'dtype=object' when creating the ndarray\n",
            "  return array(a, dtype, copy=False, order=order, subok=True)\n"
          ]
        },
        {
          "data": {
            "image/png": "[encoded data removed]",
            "text/plain": [
              "<Figure size 432x288 with 1 Axes>"
            ]
          },
          "metadata": {
            "needs_background": "light"
          },
          "output_type": "display_data"
        },
        {
          "data": {
            "image/png": "[encoded data removed]",
            "text/plain": [
              "<Figure size 432x288 with 1 Axes>"
            ]
          },
          "metadata": {
            "needs_background": "light"
          },
          "output_type": "display_data"
        }
      ],
      "source": [
        "# The following variables are the hyperparameters.\n",
        "learning_rate = 0.01\n",
        "epochs = 30\n",
        "batch_size = 30\n",
        "\n",
        "# Specify the feature and the label.\n",
        "my_feature = \"total_rooms\"  # the total number of rooms on a specific city block.\n",
        "my_label=\"median_house_value\" # the median value of a house on a specific city block.\n",
        "# That is, you're going to create a model that predicts house value based \n",
        "# solely on total_rooms.  \n",
        "\n",
        "# Discard any pre-existing version of the model.\n",
        "my_model = None\n",
        "\n",
        "# Invoke the functions.\n",
        "my_model = build_model(learning_rate)\n",
        "weight, bias, epochs, rmse = train_model(my_model, training_df, \n",
        "                                         my_feature, my_label,\n",
        "                                         epochs, batch_size)\n",
        "\n",
        "print(\"\\nThe learned weight for your model is %.4f\" % weight)\n",
        "print(\"The learned bias for your model is %.4f\\n\" % bias )\n",
        "\n",
        "plot_the_model(weight, bias, my_feature, my_label)\n",
        "plot_the_loss_curve(epochs, rmse)"
      ]
    },
    {
      "attachments": {},
      "cell_type": "markdown",
      "metadata": {
        "colab_type": "text",
        "id": "Btp8zUNbYOcd"
      },
      "source": [
        "A certain amount of randomness plays into training a model. Consequently, you'll get different results each time you train the model. That said, given the dataset and the hyperparameters, the trained model will generally do a poor job describing the feature's relation to the label."
      ]
    },
    {
      "attachments": {},
      "cell_type": "markdown",
      "metadata": {
        "colab_type": "text",
        "id": "1xNqWWos_zyk"
      },
      "source": [
        "## Use the model to make predictions\n",
        "\n",
        "You can use the trained model to make predictions. In practice, [you should make predictions on examples that are not used in training](https://developers.google.com/machine-learning/crash-course/training-and-test-sets/splitting-data). However, for this exercise, you'll just work with a subset of the same training dataset. A later Colab exercise will explore ways to make predictions on examples not used in training.\n",
        "\n",
        "First, run the following code to define the house prediction function:"
      ]
    },
    {
      "cell_type": "code",
      "execution_count": 10,
      "metadata": {
        "colab": {},
        "colab_type": "code",
        "id": "nH63BmncAcab"
      },
      "outputs": [],
      "source": [
        "def predict_house_values(n, feature, label):\n",
        "  \"\"\"Predict house values based on a feature.\"\"\"\n",
        "\n",
        "  batch = training_df[feature][10000:10000 + n]\n",
        "  predicted_values = my_model.predict_on_batch(x=batch)\n",
        "\n",
        "  print(\"feature   label          predicted\")\n",
        "  print(\"  value   value          value\")\n",
        "  print(\"          in thousand$   in thousand$\")\n",
        "  print(\"--------------------------------------\")\n",
        "  for i in range(n):\n",
        "    print (\"%5.0f %6.0f %15.0f\" % (training_df[feature][i],\n",
        "                                   training_df[label][i],\n",
        "                                   predicted_values[i][0] ))"
      ]
    },
    {
      "attachments": {},
      "cell_type": "markdown",
      "metadata": {
        "colab_type": "text",
        "id": "NbBNQujU5WjK"
      },
      "source": [
        "Now, invoke the house prediction function on 10 examples:"
      ]
    },
    {
      "cell_type": "code",
      "execution_count": 11,
      "metadata": {
        "colab": {},
        "colab_type": "code",
        "id": "Y_0DGBt0Kz_N"
      },
      "outputs": [
        {
          "name": "stdout",
          "output_type": "stream",
          "text": [
            "feature   label          predicted\n",
            "  value   value          value\n",
            "          in thousand$   in thousand$\n",
            "--------------------------------------\n",
            " 5612     67             169\n",
            " 7650     80             200\n",
            "  720     86             207\n",
            " 1501     73             174\n",
            " 1454     66             179\n",
            " 1387     74             250\n",
            " 2907     82             199\n",
            "  812     48             182\n",
            " 4789     58             156\n",
            " 1497     48             202\n"
          ]
        }
      ],
      "source": [
        "predict_house_values(10, my_feature, my_label)"
      ]
    },
    {
      "attachments": {},
      "cell_type": "markdown",
      "metadata": {
        "colab_type": "text",
        "id": "-gGaqArcpqY3"
      },
      "source": [
        "### Task 2: Judge the predictive power of the model\n",
        "\n",
        "Look at the preceding table. How close is the predicted value to the label value?  In other words, does your model accurately predict house values?  "
      ]
    },
    {
      "cell_type": "code",
      "execution_count": null,
      "metadata": {
        "cellView": "form",
        "colab": {},
        "colab_type": "code",
        "id": "yVpjhUFm9uID"
      },
      "outputs": [],
      "source": [
        "#@title Double-click to view the answer.\n",
        "\n",
        "# Most of the predicted values differ significantly\n",
        "# from the label value, so the trained model probably \n",
        "# doesn't have much predictive power. However, the\n",
        "# first 10 examples might not be representative of \n",
        "# the rest of the examples.  "
      ]
    },
    {
      "attachments": {},
      "cell_type": "markdown",
      "metadata": {
        "colab_type": "text",
        "id": "wLoqis3IUPSd"
      },
      "source": [
        "## Task 3: Try a different feature\n",
        "\n",
        "The `total_rooms` feature had only a little predictive power. Would a different feature have greater predictive power?  Try using `population` as the feature instead of `total_rooms`. \n",
        "\n",
        "Note: When you change features, you might also need to change the hyperparameters."
      ]
    },
    {
      "cell_type": "code",
      "execution_count": 12,
      "metadata": {
        "colab": {},
        "colab_type": "code",
        "id": "H0ab6HD4ZO75"
      },
      "outputs": [
        {
          "name": "stdout",
          "output_type": "stream",
          "text": [
            "Epoch 1/3\n",
            " 47/532 [=>............................] - ETA: 0s - loss: 16479.9941 - root_mean_squared_error: 128.3744"
          ]
        },
        {
          "name": "stderr",
          "output_type": "stream",
          "text": [
            "c:\\Users\\almet\\miniconda3\\envs\\new_env\\lib\\site-packages\\keras\\optimizer_v2\\optimizer_v2.py:356: UserWarning: The `lr` argument is deprecated, use `learning_rate` instead.\n",
            "  \"The `lr` argument is deprecated, use `learning_rate` instead.\")\n"
          ]
        },
        {
          "name": "stdout",
          "output_type": "stream",
          "text": [
            "532/532 [==============================] - 1s 1ms/step - loss: 16463.1562 - root_mean_squared_error: 128.3088\n",
            "Epoch 2/3\n",
            "532/532 [==============================] - 1s 1ms/step - loss: 16188.5645 - root_mean_squared_error: 127.2343A: 0s - loss: 15335.4297 - root_mean_squared_er\n",
            "Epoch 3/3\n",
            "532/532 [==============================] - 1s 1ms/step - loss: 15927.0176 - root_mean_squared_error: 126.2023\n"
          ]
        },
        {
          "name": "stderr",
          "output_type": "stream",
          "text": [
            "c:\\Users\\almet\\miniconda3\\envs\\new_env\\lib\\site-packages\\numpy\\core\\_asarray.py:136: VisibleDeprecationWarning: Creating an ndarray from ragged nested sequences (which is a list-or-tuple of lists-or-tuples-or ndarrays with different lengths or shapes) is deprecated. If you meant to do this, you must specify 'dtype=object' when creating the ndarray\n",
            "  return array(a, dtype, copy=False, order=order, subok=True)\n"
          ]
        },
        {
          "data": {
            "image/png": "[encoded data removed]",
            "text/plain": [
              "<Figure size 432x288 with 1 Axes>"
            ]
          },
          "metadata": {
            "needs_background": "light"
          },
          "output_type": "display_data"
        },
        {
          "data": {
            "image/png": "[encoded data removed]",
            "text/plain": [
              "<Figure size 432x288 with 1 Axes>"
            ]
          },
          "metadata": {
            "needs_background": "light"
          },
          "output_type": "display_data"
        },
        {
          "name": "stdout",
          "output_type": "stream",
          "text": [
            "feature   label          predicted\n",
            "  value   value          value\n",
            "          in thousand$   in thousand$\n",
            "--------------------------------------\n",
            " 1015     67             160\n",
            " 1129     80             170\n",
            "  333     86             176\n",
            "  515     73             156\n",
            "  624     66             166\n",
            "  671     74             178\n",
            " 1841     82             166\n",
            "  375     48             156\n",
            " 3134     58             144\n",
            "  787     48             166\n",
            " 2434     86             159\n",
            " 1182     62             143\n",
            "  580     49             173\n",
            " 1346     70             169\n",
            "  949     45             161\n"
          ]
        }
      ],
      "source": [
        "my_feature = \"population\"   # Replace the ? with population or possibly\n",
        "                   # a different column name.\n",
        "\n",
        "# Experiment with the hyperparameters.\n",
        "learning_rate = 2\n",
        "epochs = 3\n",
        "batch_size = 120\n",
        "\n",
        "# Don't change anything below this line.\n",
        "model = build_model(learning_rate)\n",
        "weight, bias, epochs, rmse = train_model(my_model, training_df, \n",
        "                                         my_feature, my_label,\n",
        "                                         epochs, batch_size)\n",
        "plot_the_model(weight, bias, my_feature, my_label)\n",
        "plot_the_loss_curve(epochs, rmse)\n",
        "\n",
        "predict_house_values(15, my_feature, my_label)"
      ]
    },
    {
      "cell_type": "code",
      "execution_count": 13,
      "metadata": {
        "cellView": "form",
        "colab": {},
        "colab_type": "code",
        "id": "107mDkW7U6mg"
      },
      "outputs": [
        {
          "name": "stderr",
          "output_type": "stream",
          "text": [
            "c:\\Users\\almet\\miniconda3\\envs\\new_env\\lib\\site-packages\\keras\\optimizer_v2\\optimizer_v2.py:356: UserWarning: The `lr` argument is deprecated, use `learning_rate` instead.\n",
            "  \"The `lr` argument is deprecated, use `learning_rate` instead.\")\n"
          ]
        },
        {
          "name": "stdout",
          "output_type": "stream",
          "text": [
            "Epoch 1/18\n",
            "532/532 [==============================] - 1s 863us/step - loss: 161802.4375 - root_mean_squared_error: 402.2467\n",
            "Epoch 2/18\n",
            "532/532 [==============================] - 1s 944us/step - loss: 29377.2930 - root_mean_squared_error: 171.3981\n",
            "Epoch 3/18\n",
            "532/532 [==============================] - 1s 1ms/step - loss: 27633.9824 - root_mean_squared_error: 166.2347\n",
            "Epoch 4/18\n",
            "532/532 [==============================] - 0s 924us/step - loss: 24441.4082 - root_mean_squared_error: 156.3375\n",
            "Epoch 5/18\n",
            "532/532 [==============================] - 0s 909us/step - loss: 22033.5840 - root_mean_squared_error: 148.4371\n",
            "Epoch 6/18\n",
            "532/532 [==============================] - 0s 912us/step - loss: 20772.3828 - root_mean_squared_error: 144.1263\n",
            "Epoch 7/18\n",
            "532/532 [==============================] - 0s 821us/step - loss: 19518.2852 - root_mean_squared_error: 139.7079\n",
            "Epoch 8/18\n",
            "532/532 [==============================] - 0s 890us/step - loss: 18201.1406 - root_mean_squared_error: 134.9116 0s - loss: 17914.1973 - root_mean_squared_error: \n",
            "Epoch 9/18\n",
            "532/532 [==============================] - ETA: 0s - loss: 17530.9551 - root_mean_squared_error: 132.404 - 0s 826us/step - loss: 17536.7891 - root_mean_squared_error: 132.4265\n",
            "Epoch 10/18\n",
            "532/532 [==============================] - 0s 939us/step - loss: 16816.8574 - root_mean_squared_error: 129.6798\n",
            "Epoch 11/18\n",
            "532/532 [==============================] - 0s 851us/step - loss: 16653.6777 - root_mean_squared_error: 129.0491\n",
            "Epoch 12/18\n",
            "532/532 [==============================] - 1s 949us/step - loss: 16497.8145 - root_mean_squared_error: 128.4438\n",
            "Epoch 13/18\n",
            "532/532 [==============================] - 1s 951us/step - loss: 16229.7559 - root_mean_squared_error: 127.3961\n",
            "Epoch 14/18\n",
            "532/532 [==============================] - 1s 1ms/step - loss: 15931.5127 - root_mean_squared_error: 126.2201\n",
            "Epoch 15/18\n",
            "532/532 [==============================] - 0s 918us/step - loss: 15987.1582 - root_mean_squared_error: 126.4403\n",
            "Epoch 16/18\n",
            "532/532 [==============================] - 0s 901us/step - loss: 16036.3164 - root_mean_squared_error: 126.6346\n",
            "Epoch 17/18\n",
            "532/532 [==============================] - 0s 851us/step - loss: 15961.1064 - root_mean_squared_error: 126.3373 0s - loss: 16119.0439 - root_mean_squared_error: 12\n",
            "Epoch 18/18\n",
            "532/532 [==============================] - 0s 860us/step - loss: 15906.5791 - root_mean_squared_error: 126.1213\n"
          ]
        },
        {
          "name": "stderr",
          "output_type": "stream",
          "text": [
            "c:\\Users\\almet\\miniconda3\\envs\\new_env\\lib\\site-packages\\numpy\\core\\_asarray.py:136: VisibleDeprecationWarning: Creating an ndarray from ragged nested sequences (which is a list-or-tuple of lists-or-tuples-or ndarrays with different lengths or shapes) is deprecated. If you meant to do this, you must specify 'dtype=object' when creating the ndarray\n",
            "  return array(a, dtype, copy=False, order=order, subok=True)\n"
          ]
        },
        {
          "data": {
            "image/png": "[encoded data removed]",
            "text/plain": [
              "<Figure size 432x288 with 1 Axes>"
            ]
          },
          "metadata": {
            "needs_background": "light"
          },
          "output_type": "display_data"
        },
        {
          "data": {
            "image/png": "[encoded data removed]",
            "text/plain": [
              "<Figure size 432x288 with 1 Axes>"
            ]
          },
          "metadata": {
            "needs_background": "light"
          },
          "output_type": "display_data"
        },
        {
          "name": "stdout",
          "output_type": "stream",
          "text": [
            "feature   label          predicted\n",
            "  value   value          value\n",
            "          in thousand$   in thousand$\n",
            "--------------------------------------\n",
            " 1015     67             155\n",
            " 1129     80             133\n",
            "  333     86             120\n",
            "  515     73             164\n",
            "  624     66             141\n",
            "  671     74             116\n",
            " 1841     82             143\n",
            "  375     48             163\n",
            " 3134     58             191\n",
            "  787     48             143\n"
          ]
        }
      ],
      "source": [
        "#@title Double-click to view a possible solution.\n",
        "\n",
        "my_feature = \"population\" # Pick a feature other than \"total_rooms\"\n",
        "\n",
        "# Possibly, experiment with the hyperparameters.\n",
        "learning_rate = 0.05\n",
        "epochs = 18\n",
        "batch_size = 3\n",
        "\n",
        "# Don't change anything below.\n",
        "my_model = build_model(learning_rate)\n",
        "weight, bias, epochs, rmse = train_model(my_model, training_df, \n",
        "                                         my_feature, my_label,\n",
        "                                         epochs, batch_size)\n",
        "\n",
        "plot_the_model(weight, bias, my_feature, my_label)\n",
        "plot_the_loss_curve(epochs, rmse)\n",
        "\n",
        "predict_house_values(10, my_feature, my_label)"
      ]
    },
    {
      "attachments": {},
      "cell_type": "markdown",
      "metadata": {
        "colab_type": "text",
        "id": "Nd_rHJ59AUtk"
      },
      "source": [
        "Did `population` produce better predictions than `total_rooms`?"
      ]
    },
    {
      "cell_type": "code",
      "execution_count": null,
      "metadata": {
        "cellView": "form",
        "colab": {},
        "colab_type": "code",
        "id": "F0tPEtzcC-vK"
      },
      "outputs": [],
      "source": [
        "#@title Double-click to view the answer.\n",
        "\n",
        "# Training is not entirely deterministic, but population \n",
        "# typically converges at a slightly higher RMSE than \n",
        "# total_rooms.  So, population appears to be about \n",
        "# the same or slightly worse at making predictions \n",
        "# than total_rooms."
      ]
    },
    {
      "attachments": {},
      "cell_type": "markdown",
      "metadata": {
        "colab_type": "text",
        "id": "C8uYpyGacsIg"
      },
      "source": [
        "## Task 4: Define a synthetic feature\n",
        "\n",
        "You have determined that `total_rooms` and `population` were not useful features.  That is, neither the total number of rooms in a neighborhood nor the neighborhood's population successfully predicted the median house price of that neighborhood. Perhaps though, the *ratio* of `total_rooms` to `population` might have some predictive power. That is, perhaps block density relates to median house value.\n",
        "\n",
        "To explore this hypothesis, do the following: \n",
        "\n",
        "1. Create a [synthetic feature](https://developers.google.com/machine-learning/glossary/#synthetic_feature) that's a ratio of `total_rooms` to `population`. (If you are new to pandas DataFrames, please study the [Pandas DataFrame Ultraquick Tutorial](https://colab.research.google.com/github/google/eng-edu/blob/master/ml/cc/exercises/pandas_dataframe_ultraquick_tutorial.ipynb?utm_source=linearregressionreal-colab&utm_medium=colab&utm_campaign=colab-external&utm_content=pandas_tf2-colab&hl=en).)\n",
        "2. Tune the three hyperparameters.\n",
        "3. Determine whether this synthetic feature produces \n",
        "   a lower loss value than any of the single features you \n",
        "   tried earlier in this exercise."
      ]
    },
    {
      "cell_type": "code",
      "execution_count": 14,
      "metadata": {
        "colab": {},
        "colab_type": "code",
        "id": "4Kx2xHSgdcpg"
      },
      "outputs": [
        {
          "name": "stderr",
          "output_type": "stream",
          "text": [
            "c:\\Users\\almet\\miniconda3\\envs\\new_env\\lib\\site-packages\\keras\\optimizer_v2\\optimizer_v2.py:356: UserWarning: The `lr` argument is deprecated, use `learning_rate` instead.\n",
            "  \"The `lr` argument is deprecated, use `learning_rate` instead.\")\n"
          ]
        },
        {
          "name": "stdout",
          "output_type": "stream",
          "text": [
            "Epoch 1/18\n",
            "532/532 [==============================] - 1s 774us/step - loss: 40797.5508 - root_mean_squared_error: 201.9840\n",
            "Epoch 2/18\n",
            "532/532 [==============================] - 0s 840us/step - loss: 22419.6133 - root_mean_squared_error: 149.7318\n",
            "Epoch 3/18\n",
            "532/532 [==============================] - 0s 761us/step - loss: 15951.7061 - root_mean_squared_error: 126.3001\n",
            "Epoch 4/18\n",
            "532/532 [==============================] - 0s 847us/step - loss: 14997.2168 - root_mean_squared_error: 122.4631\n",
            "Epoch 5/18\n",
            "532/532 [==============================] - 0s 819us/step - loss: 14789.1035 - root_mean_squared_error: 121.6105\n",
            "Epoch 6/18\n",
            "532/532 [==============================] - 0s 888us/step - loss: 14652.2959 - root_mean_squared_error: 121.0467\n",
            "Epoch 7/18\n",
            "532/532 [==============================] - 0s 749us/step - loss: 14559.7012 - root_mean_squared_error: 120.6636\n",
            "Epoch 8/18\n",
            "532/532 [==============================] - 0s 892us/step - loss: 14414.8184 - root_mean_squared_error: 120.0617\n",
            "Epoch 9/18\n",
            "532/532 [==============================] - 0s 879us/step - loss: 14296.8457 - root_mean_squared_error: 119.5694\n",
            "Epoch 10/18\n",
            "532/532 [==============================] - 1s 1ms/step - loss: 14151.9268 - root_mean_squared_error: 118.9619\n",
            "Epoch 11/18\n",
            "532/532 [==============================] - 0s 870us/step - loss: 14109.4707 - root_mean_squared_error: 118.7833\n",
            "Epoch 12/18\n",
            "532/532 [==============================] - 1s 991us/step - loss: 14049.4629 - root_mean_squared_error: 118.5304\n",
            "Epoch 13/18\n",
            "532/532 [==============================] - 0s 898us/step - loss: 13954.0068 - root_mean_squared_error: 118.1271\n",
            "Epoch 14/18\n",
            "532/532 [==============================] - 1s 949us/step - loss: 13898.0557 - root_mean_squared_error: 117.8900 0s - loss: 12180.9893 - root_mean_squared_error:\n",
            "Epoch 15/18\n",
            "532/532 [==============================] - 0s 916us/step - loss: 13856.7480 - root_mean_squared_error: 117.7147\n",
            "Epoch 16/18\n",
            "532/532 [==============================] - 0s 938us/step - loss: 13797.7471 - root_mean_squared_error: 117.4638\n",
            "Epoch 17/18\n",
            "532/532 [==============================] - 1s 955us/step - loss: 13719.3076 - root_mean_squared_error: 117.1294\n",
            "Epoch 18/18\n",
            "532/532 [==============================] - 1s 1ms/step - loss: 13655.6182 - root_mean_squared_error: 116.8573\n"
          ]
        },
        {
          "data": {
            "image/png": "[encoded data removed]",
            "text/plain": [
              "<Figure size 432x288 with 1 Axes>"
            ]
          },
          "metadata": {
            "needs_background": "light"
          },
          "output_type": "display_data"
        },
        {
          "name": "stdout",
          "output_type": "stream",
          "text": [
            "feature   label          predicted\n",
            "  value   value          value\n",
            "          in thousand$   in thousand$\n",
            "--------------------------------------\n",
            "    6     67             186\n",
            "    7     80             199\n",
            "    2     86             192\n",
            "    3     73             211\n",
            "    2     66             183\n",
            "    2     74             226\n",
            "    2     82             210\n",
            "    2     48             224\n",
            "    2     58             296\n",
            "    2     48             214\n",
            "    2     86             225\n",
            "    2     62             236\n",
            "    2     49             226\n",
            "    2     70             219\n",
            "    2     45             210\n"
          ]
        }
      ],
      "source": [
        "# Define a synthetic feature named rooms_per_person\n",
        "training_df[\"rooms_per_person\"] = training_df[\"total_rooms\"] / training_df[\"population\"] # write your code here.\n",
        "\n",
        "# Don't change the next two lines.\n",
        "my_feature = \"rooms_per_person\"\n",
        "my_label=\"median_house_value\" \n",
        "\n",
        "# Assign values to these three hyperparameters.\n",
        "learning_rate = 0.05\n",
        "epochs = 18\n",
        "batch_size =  3\n",
        "\n",
        "# Don't change anything below this line.\n",
        "my_model = build_model(learning_rate)\n",
        "weight, bias, epochs, rmse = train_model(my_model, training_df,\n",
        "                                         my_feature, my_label,\n",
        "                                         epochs, batch_size)\n",
        "\n",
        "plot_the_loss_curve(epochs, rmse)\n",
        "predict_house_values(15, my_feature, my_label)"
      ]
    },
    {
      "cell_type": "code",
      "execution_count": 15,
      "metadata": {
        "cellView": "form",
        "colab": {},
        "colab_type": "code",
        "id": "xRfxp_3yofe3"
      },
      "outputs": [
        {
          "name": "stderr",
          "output_type": "stream",
          "text": [
            "c:\\Users\\almet\\miniconda3\\envs\\new_env\\lib\\site-packages\\keras\\optimizer_v2\\optimizer_v2.py:356: UserWarning: The `lr` argument is deprecated, use `learning_rate` instead.\n",
            "  \"The `lr` argument is deprecated, use `learning_rate` instead.\")\n"
          ]
        },
        {
          "name": "stdout",
          "output_type": "stream",
          "text": [
            "Epoch 1/24\n",
            "532/532 [==============================] - 1s 714us/step - loss: 39979.7969 - root_mean_squared_error: 199.9495\n",
            "Epoch 2/24\n",
            "532/532 [==============================] - 0s 795us/step - loss: 20063.4570 - root_mean_squared_error: 141.6455\n",
            "Epoch 3/24\n",
            "532/532 [==============================] - 0s 877us/step - loss: 15285.7500 - root_mean_squared_error: 123.6356\n",
            "Epoch 4/24\n",
            "532/532 [==============================] - 0s 840us/step - loss: 14786.6299 - root_mean_squared_error: 121.6003\n",
            "Epoch 5/24\n",
            "532/532 [==============================] - 0s 892us/step - loss: 14649.4111 - root_mean_squared_error: 121.0348\n",
            "Epoch 6/24\n",
            "532/532 [==============================] - 0s 895us/step - loss: 14486.3721 - root_mean_squared_error: 120.3593\n",
            "Epoch 7/24\n",
            "532/532 [==============================] - 1s 960us/step - loss: 14380.2666 - root_mean_squared_error: 119.9177\n",
            "Epoch 8/24\n",
            "532/532 [==============================] - 0s 857us/step - loss: 14262.6758 - root_mean_squared_error: 119.4264\n",
            "Epoch 9/24\n",
            "532/532 [==============================] - 0s 896us/step - loss: 14139.4160 - root_mean_squared_error: 118.9093\n",
            "Epoch 10/24\n",
            "532/532 [==============================] - 0s 913us/step - loss: 14020.7920 - root_mean_squared_error: 118.4094\n",
            "Epoch 11/24\n",
            "532/532 [==============================] - 0s 882us/step - loss: 13887.7998 - root_mean_squared_error: 117.8465\n",
            "Epoch 12/24\n",
            "532/532 [==============================] - 0s 868us/step - loss: 13840.6406 - root_mean_squared_error: 117.6463\n",
            "Epoch 13/24\n",
            "532/532 [==============================] - 1s 945us/step - loss: 13758.4863 - root_mean_squared_error: 117.2966\n",
            "Epoch 14/24\n",
            "532/532 [==============================] - 0s 910us/step - loss: 13678.0645 - root_mean_squared_error: 116.9533\n",
            "Epoch 15/24\n",
            "532/532 [==============================] - 1s 987us/step - loss: 13631.9482 - root_mean_squared_error: 116.7559\n",
            "Epoch 16/24\n",
            "532/532 [==============================] - 0s 907us/step - loss: 13568.8564 - root_mean_squared_error: 116.4854\n",
            "Epoch 17/24\n",
            "532/532 [==============================] - 1s 943us/step - loss: 13534.2939 - root_mean_squared_error: 116.3370\n",
            "Epoch 18/24\n",
            "532/532 [==============================] - 0s 873us/step - loss: 13530.9863 - root_mean_squared_error: 116.3228\n",
            "Epoch 19/24\n",
            "532/532 [==============================] - 0s 890us/step - loss: 13472.0635 - root_mean_squared_error: 116.0692\n",
            "Epoch 20/24\n",
            "532/532 [==============================] - 0s 871us/step - loss: 13431.8125 - root_mean_squared_error: 115.8957\n",
            "Epoch 21/24\n",
            "532/532 [==============================] - 1s 941us/step - loss: 13404.9189 - root_mean_squared_error: 115.7796\n",
            "Epoch 22/24\n",
            "532/532 [==============================] - 0s 879us/step - loss: 13393.3320 - root_mean_squared_error: 115.7296\n",
            "Epoch 23/24\n",
            "532/532 [==============================] - 1s 1ms/step - loss: 13407.3750 - root_mean_squared_error: 115.7902\n",
            "Epoch 24/24\n",
            "532/532 [==============================] - 0s 841us/step - loss: 13362.6465 - root_mean_squared_error: 115.5969\n"
          ]
        },
        {
          "data": {
            "image/png": "[encoded data removed]",
            "text/plain": [
              "<Figure size 432x288 with 1 Axes>"
            ]
          },
          "metadata": {
            "needs_background": "light"
          },
          "output_type": "display_data"
        },
        {
          "name": "stdout",
          "output_type": "stream",
          "text": [
            "WARNING:tensorflow:5 out of the last 5 calls to <function Model.make_predict_function.<locals>.predict_function at 0x000001A21CF32400> triggered tf.function retracing. Tracing is expensive and the excessive number of tracings could be due to (1) creating @tf.function repeatedly in a loop, (2) passing tensors with different shapes, (3) passing Python objects instead of tensors. For (1), please define your @tf.function outside of the loop. For (2), @tf.function has experimental_relax_shapes=True option that relaxes argument shapes that can avoid unnecessary retracing. For (3), please refer to https://www.tensorflow.org/guide/function#controlling_retracing and https://www.tensorflow.org/api_docs/python/tf/function for  more details.\n",
            "feature   label          predicted\n",
            "  value   value          value\n",
            "          in thousand$   in thousand$\n",
            "--------------------------------------\n",
            "    6     67             190\n",
            "    7     80             201\n",
            "    2     86             196\n",
            "    3     73             212\n",
            "    2     66             187\n",
            "    2     74             226\n",
            "    2     82             211\n",
            "    2     48             224\n",
            "    2     58             289\n",
            "    2     48             215\n",
            "    2     86             225\n",
            "    2     62             235\n",
            "    2     49             226\n",
            "    2     70             220\n",
            "    2     45             211\n"
          ]
        }
      ],
      "source": [
        "#@title Double-click to view a possible solution to Task 4.\n",
        "\n",
        "# Define a synthetic feature\n",
        "training_df[\"rooms_per_person\"] = training_df[\"total_rooms\"] / training_df[\"population\"]\n",
        "my_feature = \"rooms_per_person\"\n",
        "my_label=\"median_house_value\" \n",
        "\n",
        "# Tune the hyperparameters.\n",
        "learning_rate = 0.06\n",
        "epochs = 24\n",
        "batch_size = 30\n",
        "\n",
        "# Don't change anything below this line.\n",
        "my_model = build_model(learning_rate)\n",
        "weight, bias, epochs, mae = train_model(my_model, training_df,\n",
        "                                        my_feature, my_label,\n",
        "                                        epochs, batch_size)\n",
        "\n",
        "plot_the_loss_curve(epochs, mae)\n",
        "predict_house_values(15, my_feature, my_label)\n"
      ]
    },
    {
      "attachments": {},
      "cell_type": "markdown",
      "metadata": {
        "colab_type": "text",
        "id": "HBiDWursB1Wi"
      },
      "source": [
        "Based on the loss values, this synthetic feature produces a better model than the individual features you tried in Task 2 and Task 3. However, the model still isn't creating great predictions.\n"
      ]
    },
    {
      "attachments": {},
      "cell_type": "markdown",
      "metadata": {
        "colab_type": "text",
        "id": "XEG_9oU9O54u"
      },
      "source": [
        "## Task 5. Find feature(s) whose raw values correlate with the label\n",
        "\n",
        "So far, we've relied on trial-and-error to identify possible features for the model.  Let's rely on statistics instead.\n",
        "\n",
        "A **correlation matrix** indicates how each attribute's raw values relate to the other attributes' raw values. Correlation values have the following meanings:\n",
        "\n",
        "  * `1.0`: perfect positive correlation; that is, when one attribute rises, the other attribute rises.\n",
        "  * `-1.0`: perfect negative correlation; that is, when one attribute rises, the other attribute falls. \n",
        "  * `0.0`: no correlation; the two column's [are not linearly related](https://en.wikipedia.org/wiki/Correlation_and_dependence#/media/File:Correlation_examples2.svg).\n",
        "\n",
        "In general, the higher the absolute value of a correlation value, the greater its predictive power. For example, a correlation value of -0.8 implies far more predictive power than a correlation of -0.2.\n",
        "\n",
        "The following code cell generates the correlation matrix for attributes of the California Housing Dataset:"
      ]
    },
    {
      "cell_type": "code",
      "execution_count": 16,
      "metadata": {
        "colab": {},
        "colab_type": "code",
        "id": "zFGKL45LO8Tt"
      },
      "outputs": [
        {
          "data": {
            "text/html": [
              "<div>\n",
              "<style scoped>\n",
              "    .dataframe tbody tr th:only-of-type {\n",
              "        vertical-align: middle;\n",
              "    }\n",
              "\n",
              "    .dataframe tbody tr th {\n",
              "        vertical-align: top;\n",
              "    }\n",
              "\n",
              "    .dataframe thead th {\n",
              "        text-align: right;\n",
              "    }\n",
              "</style>\n",
              "<table border=\"1\" class=\"dataframe\">\n",
              "  <thead>\n",
              "    <tr style=\"text-align: right;\">\n",
              "      <th></th>\n",
              "      <th>longitude</th>\n",
              "      <th>latitude</th>\n",
              "      <th>housing_median_age</th>\n",
              "      <th>total_rooms</th>\n",
              "      <th>total_bedrooms</th>\n",
              "      <th>population</th>\n",
              "      <th>households</th>\n",
              "      <th>median_income</th>\n",
              "      <th>median_house_value</th>\n",
              "      <th>rooms_per_person</th>\n",
              "    </tr>\n",
              "  </thead>\n",
              "  <tbody>\n",
              "    <tr>\n",
              "      <th>longitude</th>\n",
              "      <td>1.0</td>\n",
              "      <td>-0.9</td>\n",
              "      <td>-0.1</td>\n",
              "      <td>0.0</td>\n",
              "      <td>0.1</td>\n",
              "      <td>0.1</td>\n",
              "      <td>0.1</td>\n",
              "      <td>-0.0</td>\n",
              "      <td>-0.0</td>\n",
              "      <td>-0.1</td>\n",
              "    </tr>\n",
              "    <tr>\n",
              "      <th>latitude</th>\n",
              "      <td>-0.9</td>\n",
              "      <td>1.0</td>\n",
              "      <td>0.0</td>\n",
              "      <td>-0.0</td>\n",
              "      <td>-0.1</td>\n",
              "      <td>-0.1</td>\n",
              "      <td>-0.1</td>\n",
              "      <td>-0.1</td>\n",
              "      <td>-0.1</td>\n",
              "      <td>0.1</td>\n",
              "    </tr>\n",
              "    <tr>\n",
              "      <th>housing_median_age</th>\n",
              "      <td>-0.1</td>\n",
              "      <td>0.0</td>\n",
              "      <td>1.0</td>\n",
              "      <td>-0.4</td>\n",
              "      <td>-0.3</td>\n",
              "      <td>-0.3</td>\n",
              "      <td>-0.3</td>\n",
              "      <td>-0.1</td>\n",
              "      <td>0.1</td>\n",
              "      <td>-0.1</td>\n",
              "    </tr>\n",
              "    <tr>\n",
              "      <th>total_rooms</th>\n",
              "      <td>0.0</td>\n",
              "      <td>-0.0</td>\n",
              "      <td>-0.4</td>\n",
              "      <td>1.0</td>\n",
              "      <td>0.9</td>\n",
              "      <td>0.9</td>\n",
              "      <td>0.9</td>\n",
              "      <td>0.2</td>\n",
              "      <td>0.1</td>\n",
              "      <td>0.1</td>\n",
              "    </tr>\n",
              "    <tr>\n",
              "      <th>total_bedrooms</th>\n",
              "      <td>0.1</td>\n",
              "      <td>-0.1</td>\n",
              "      <td>-0.3</td>\n",
              "      <td>0.9</td>\n",
              "      <td>1.0</td>\n",
              "      <td>0.9</td>\n",
              "      <td>1.0</td>\n",
              "      <td>-0.0</td>\n",
              "      <td>0.0</td>\n",
              "      <td>0.0</td>\n",
              "    </tr>\n",
              "    <tr>\n",
              "      <th>population</th>\n",
              "      <td>0.1</td>\n",
              "      <td>-0.1</td>\n",
              "      <td>-0.3</td>\n",
              "      <td>0.9</td>\n",
              "      <td>0.9</td>\n",
              "      <td>1.0</td>\n",
              "      <td>0.9</td>\n",
              "      <td>-0.0</td>\n",
              "      <td>-0.0</td>\n",
              "      <td>-0.1</td>\n",
              "    </tr>\n",
              "    <tr>\n",
              "      <th>households</th>\n",
              "      <td>0.1</td>\n",
              "      <td>-0.1</td>\n",
              "      <td>-0.3</td>\n",
              "      <td>0.9</td>\n",
              "      <td>1.0</td>\n",
              "      <td>0.9</td>\n",
              "      <td>1.0</td>\n",
              "      <td>0.0</td>\n",
              "      <td>0.1</td>\n",
              "      <td>-0.0</td>\n",
              "    </tr>\n",
              "    <tr>\n",
              "      <th>median_income</th>\n",
              "      <td>-0.0</td>\n",
              "      <td>-0.1</td>\n",
              "      <td>-0.1</td>\n",
              "      <td>0.2</td>\n",
              "      <td>-0.0</td>\n",
              "      <td>-0.0</td>\n",
              "      <td>0.0</td>\n",
              "      <td>1.0</td>\n",
              "      <td>0.7</td>\n",
              "      <td>0.2</td>\n",
              "    </tr>\n",
              "    <tr>\n",
              "      <th>median_house_value</th>\n",
              "      <td>-0.0</td>\n",
              "      <td>-0.1</td>\n",
              "      <td>0.1</td>\n",
              "      <td>0.1</td>\n",
              "      <td>0.0</td>\n",
              "      <td>-0.0</td>\n",
              "      <td>0.1</td>\n",
              "      <td>0.7</td>\n",
              "      <td>1.0</td>\n",
              "      <td>0.2</td>\n",
              "    </tr>\n",
              "    <tr>\n",
              "      <th>rooms_per_person</th>\n",
              "      <td>-0.1</td>\n",
              "      <td>0.1</td>\n",
              "      <td>-0.1</td>\n",
              "      <td>0.1</td>\n",
              "      <td>0.0</td>\n",
              "      <td>-0.1</td>\n",
              "      <td>-0.0</td>\n",
              "      <td>0.2</td>\n",
              "      <td>0.2</td>\n",
              "      <td>1.0</td>\n",
              "    </tr>\n",
              "  </tbody>\n",
              "</table>\n",
              "</div>"
            ],
            "text/plain": [
              "                    longitude  latitude  housing_median_age  total_rooms  \\\n",
              "longitude                 1.0      -0.9                -0.1          0.0   \n",
              "latitude                 -0.9       1.0                 0.0         -0.0   \n",
              "housing_median_age       -0.1       0.0                 1.0         -0.4   \n",
              "total_rooms               0.0      -0.0                -0.4          1.0   \n",
              "total_bedrooms            0.1      -0.1                -0.3          0.9   \n",
              "population                0.1      -0.1                -0.3          0.9   \n",
              "households                0.1      -0.1                -0.3          0.9   \n",
              "median_income            -0.0      -0.1                -0.1          0.2   \n",
              "median_house_value       -0.0      -0.1                 0.1          0.1   \n",
              "rooms_per_person         -0.1       0.1                -0.1          0.1   \n",
              "\n",
              "                    total_bedrooms  population  households  median_income  \\\n",
              "longitude                      0.1         0.1         0.1           -0.0   \n",
              "latitude                      -0.1        -0.1        -0.1           -0.1   \n",
              "housing_median_age            -0.3        -0.3        -0.3           -0.1   \n",
              "total_rooms                    0.9         0.9         0.9            0.2   \n",
              "total_bedrooms                 1.0         0.9         1.0           -0.0   \n",
              "population                     0.9         1.0         0.9           -0.0   \n",
              "households                     1.0         0.9         1.0            0.0   \n",
              "median_income                 -0.0        -0.0         0.0            1.0   \n",
              "median_house_value             0.0        -0.0         0.1            0.7   \n",
              "rooms_per_person               0.0        -0.1        -0.0            0.2   \n",
              "\n",
              "                    median_house_value  rooms_per_person  \n",
              "longitude                         -0.0              -0.1  \n",
              "latitude                          -0.1               0.1  \n",
              "housing_median_age                 0.1              -0.1  \n",
              "total_rooms                        0.1               0.1  \n",
              "total_bedrooms                     0.0               0.0  \n",
              "population                        -0.0              -0.1  \n",
              "households                         0.1              -0.0  \n",
              "median_income                      0.7               0.2  \n",
              "median_house_value                 1.0               0.2  \n",
              "rooms_per_person                   0.2               1.0  "
            ]
          },
          "execution_count": 16,
          "metadata": {},
          "output_type": "execute_result"
        }
      ],
      "source": [
        "# Generate a correlation matrix.\n",
        "training_df.corr()"
      ]
    },
    {
      "attachments": {},
      "cell_type": "markdown",
      "metadata": {
        "colab_type": "text",
        "id": "hp0r3NAVPEdt"
      },
      "source": [
        "The correlation matrix shows nine potential features (including a synthetic\n",
        "feature) and one label (`median_house_value`).  A strong negative correlation or strong positive correlation with the label suggests a potentially good feature.  \n",
        "\n",
        "**Your Task:** Determine which of the nine potential features appears to be the best candidate for a feature?"
      ]
    },
    {
      "cell_type": "code",
      "execution_count": null,
      "metadata": {
        "cellView": "form",
        "colab": {},
        "colab_type": "code",
        "id": "RomQTd1OPVd0"
      },
      "outputs": [],
      "source": [
        "#@title Double-click here for the solution to Task 5\n",
        "\n",
        "# The `median_income` correlates 0.7 with the label \n",
        "# (median_house_value), so median_income` might be a \n",
        "# good feature. The other seven potential features\n",
        "# all have a correlation relatively close to 0. \n",
        "\n",
        "# If time permits, try median_income as the feature\n",
        "# and see whether the model improves."
      ]
    },
    {
      "attachments": {},
      "cell_type": "markdown",
      "metadata": {
        "colab_type": "text",
        "id": "8RqvEbaVSlRt"
      },
      "source": [
        "Correlation matrices don't tell the entire story. In later exercises, you'll find additional ways to unlock predictive power from potential features.\n",
        "\n",
        "**Note:** Using `median_income` as a feature may raise some ethical and fairness\n",
        "issues. Towards the end of the course, we'll explore ethical and fairness issues."
      ]
    },
    {
      "cell_type": "code",
      "execution_count": 24,
      "metadata": {},
      "outputs": [
        {
          "name": "stderr",
          "output_type": "stream",
          "text": [
            "c:\\Users\\almet\\miniconda3\\envs\\new_env\\lib\\site-packages\\keras\\optimizer_v2\\optimizer_v2.py:356: UserWarning: The `lr` argument is deprecated, use `learning_rate` instead.\n",
            "  \"The `lr` argument is deprecated, use `learning_rate` instead.\")\n"
          ]
        },
        {
          "name": "stdout",
          "output_type": "stream",
          "text": [
            "Epoch 1/30\n",
            "532/532 [==============================] - 1s 1ms/step - loss: 39636.5352 - root_mean_squared_error: 199.0893\n",
            "Epoch 2/30\n",
            "532/532 [==============================] - 0s 885us/step - loss: 17065.1816 - root_mean_squared_error: 130.6338\n",
            "Epoch 3/30\n",
            "532/532 [==============================] - 0s 845us/step - loss: 7886.1987 - root_mean_squared_error: 88.8043\n",
            "Epoch 4/30\n",
            "532/532 [==============================] - 0s 799us/step - loss: 7014.9170 - root_mean_squared_error: 83.7551\n",
            "Epoch 5/30\n",
            "532/532 [==============================] - 0s 861us/step - loss: 7013.4331 - root_mean_squared_error: 83.7462\n",
            "Epoch 6/30\n",
            "532/532 [==============================] - 0s 787us/step - loss: 7013.6401 - root_mean_squared_error: 83.7475 0s - loss: 7008.2051 - root_mean_squared_error: 83.71\n",
            "Epoch 7/30\n",
            "532/532 [==============================] - 0s 874us/step - loss: 7015.3950 - root_mean_squared_error: 83.7580\n",
            "Epoch 8/30\n",
            "532/532 [==============================] - 0s 826us/step - loss: 7013.8716 - root_mean_squared_error: 83.7489\n",
            "Epoch 9/30\n",
            "532/532 [==============================] - 0s 870us/step - loss: 7012.3569 - root_mean_squared_error: 83.7398\n",
            "Epoch 10/30\n",
            "532/532 [==============================] - 0s 799us/step - loss: 7016.1069 - root_mean_squared_error: 83.7622\n",
            "Epoch 11/30\n",
            "532/532 [==============================] - 0s 806us/step - loss: 7014.3311 - root_mean_squared_error: 83.7516\n",
            "Epoch 12/30\n",
            "532/532 [==============================] - 0s 908us/step - loss: 7014.9575 - root_mean_squared_error: 83.7553\n",
            "Epoch 13/30\n",
            "532/532 [==============================] - 0s 816us/step - loss: 7014.0479 - root_mean_squared_error: 83.7499\n",
            "Epoch 14/30\n",
            "532/532 [==============================] - 1s 940us/step - loss: 7015.0181 - root_mean_squared_error: 83.7557\n",
            "Epoch 15/30\n",
            "532/532 [==============================] - 0s 812us/step - loss: 7012.0215 - root_mean_squared_error: 83.7378 0s - loss: 7030.2930 - root_mean_squared_error:\n",
            "Epoch 16/30\n",
            "532/532 [==============================] - 0s 878us/step - loss: 7014.8423 - root_mean_squared_error: 83.7547\n",
            "Epoch 17/30\n",
            "532/532 [==============================] - 0s 832us/step - loss: 7014.9824 - root_mean_squared_error: 83.7555\n",
            "Epoch 18/30\n",
            "532/532 [==============================] - 0s 855us/step - loss: 7014.6831 - root_mean_squared_error: 83.7537\n",
            "Epoch 19/30\n",
            "532/532 [==============================] - 0s 790us/step - loss: 7014.8228 - root_mean_squared_error: 83.7545\n",
            "Epoch 20/30\n",
            "532/532 [==============================] - 0s 823us/step - loss: 7014.1069 - root_mean_squared_error: 83.7503\n",
            "Epoch 21/30\n",
            "532/532 [==============================] - 0s 796us/step - loss: 7014.0933 - root_mean_squared_error: 83.7502\n",
            "Epoch 22/30\n",
            "532/532 [==============================] - 0s 781us/step - loss: 7013.3374 - root_mean_squared_error: 83.7457\n",
            "Epoch 23/30\n",
            "532/532 [==============================] - 0s 885us/step - loss: 7014.6929 - root_mean_squared_error: 83.7538 0s - loss: 7028.4917 - root_mean_squared_error\n",
            "Epoch 24/30\n",
            "532/532 [==============================] - 0s 772us/step - loss: 7014.8774 - root_mean_squared_error: 83.7549\n",
            "Epoch 25/30\n",
            "532/532 [==============================] - 0s 871us/step - loss: 7012.9404 - root_mean_squared_error: 83.7433\n",
            "Epoch 26/30\n",
            "532/532 [==============================] - 0s 774us/step - loss: 7013.8408 - root_mean_squared_error: 83.7487\n",
            "Epoch 27/30\n",
            "532/532 [==============================] - 0s 849us/step - loss: 7014.9990 - root_mean_squared_error: 83.7556\n",
            "Epoch 28/30\n",
            "532/532 [==============================] - 0s 759us/step - loss: 7014.7183 - root_mean_squared_error: 83.7539 0s - loss: 6887.6885 - root_mean_squared_error: 82.\n",
            "Epoch 29/30\n",
            "532/532 [==============================] - 0s 851us/step - loss: 7014.5054 - root_mean_squared_error: 83.7526\n",
            "Epoch 30/30\n",
            "532/532 [==============================] - 0s 831us/step - loss: 7014.7227 - root_mean_squared_error: 83.7539\n"
          ]
        },
        {
          "name": "stderr",
          "output_type": "stream",
          "text": [
            "c:\\Users\\almet\\miniconda3\\envs\\new_env\\lib\\site-packages\\numpy\\core\\_asarray.py:136: VisibleDeprecationWarning: Creating an ndarray from ragged nested sequences (which is a list-or-tuple of lists-or-tuples-or ndarrays with different lengths or shapes) is deprecated. If you meant to do this, you must specify 'dtype=object' when creating the ndarray\n",
            "  return array(a, dtype, copy=False, order=order, subok=True)\n"
          ]
        },
        {
          "data": {
            "image/png": "[encoded data removed]",
            "text/plain": [
              "<Figure size 432x288 with 1 Axes>"
            ]
          },
          "metadata": {
            "needs_background": "light"
          },
          "output_type": "display_data"
        },
        {
          "data": {
            "image/png": "[encoded data removed]",
            "text/plain": [
              "<Figure size 432x288 with 1 Axes>"
            ]
          },
          "metadata": {
            "needs_background": "light"
          },
          "output_type": "display_data"
        },
        {
          "name": "stdout",
          "output_type": "stream",
          "text": [
            "feature   label          predicted\n",
            "  value   value          value\n",
            "          in thousand$   in thousand$\n",
            "--------------------------------------\n",
            "    1     67             134\n",
            "    2     80             212\n",
            "    2     86             154\n",
            "    3     73             132\n",
            "    2     66             153\n",
            "    3     74             148\n",
            "    3     82             457\n",
            "    2     48             260\n",
            "    2     58             147\n",
            "    2     48             221\n",
            "    3     86             397\n",
            "    2     62             163\n",
            "    2     49             179\n",
            "    3     70             221\n",
            "    1     45             143\n"
          ]
        }
      ],
      "source": [
        "# Define a synthetic feature\n",
        "my_feature = \"median_income\"\n",
        "my_label=\"median_house_value\" \n",
        "\n",
        "# Tune the hyperparameters.\n",
        "learning_rate = 0.03\n",
        "epochs = 30\n",
        "batch_size = 25\n",
        "\n",
        "# Don't change anything below this line.\n",
        "my_model = build_model(learning_rate)\n",
        "weight, bias, epochs, mae = train_model(my_model, training_df,\n",
        "                                        my_feature, my_label,\n",
        "                                        epochs, batch_size)\n",
        "\n",
        "plot_the_model(weight, bias, my_feature, my_label)\n",
        "plot_the_loss_curve(epochs, mae)\n",
        "predict_house_values(15, my_feature, my_label)"
      ]
    },
    {
      "cell_type": "code",
      "execution_count": null,
      "metadata": {},
      "outputs": [],
      "source": []
    }
  ],
  "metadata": {
    "colab": {
      "collapsed_sections": [],
      "name": "Linear Regression with a Real Dataset.ipynb",
      "private_outputs": true,
      "provenance": []
    },
    "kernelspec": {
      "display_name": "Python 3",
      "name": "python3"
    },
    "language_info": {
      "codemirror_mode": {
        "name": "ipython",
        "version": 3
      },
      "file_extension": ".py",
      "mimetype": "text/x-python",
      "name": "python",
      "nbconvert_exporter": "python",
      "pygments_lexer": "ipython3",
      "version": "3.6.13"
    }
  },
  "nbformat": 4,
  "nbformat_minor": 0
}
