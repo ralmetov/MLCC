{
  "cells": [
    {
      "cell_type": "code",
      "execution_count": null,
      "metadata": {
        "cellView": "form",
        "colab": {},
        "colab_type": "code",
        "id": "hMqWDc_m6rUC"
      },
      "outputs": [],
      "source": [
        "#@title Copyright 2020 Google LLC. Double-click here for license information.\n",
        "# Licensed under the Apache License, Version 2.0 (the \"License\");\n",
        "# you may not use this file except in compliance with the License.\n",
        "# You may obtain a copy of the License at\n",
        "#\n",
        "# https://www.apache.org/licenses/LICENSE-2.0\n",
        "#\n",
        "# Unless required by applicable law or agreed to in writing, software\n",
        "# distributed under the License is distributed on an \"AS IS\" BASIS,\n",
        "# WITHOUT WARRANTIES OR CONDITIONS OF ANY KIND, either express or implied.\n",
        "# See the License for the specific language governing permissions and\n",
        "# limitations under the License."
      ]
    },
    {
      "attachments": {},
      "cell_type": "markdown",
      "metadata": {
        "colab_type": "text",
        "id": "4f3CKqFUqL2-"
      },
      "source": [
        "# Validation Sets and Test Sets\n",
        "\n",
        "The previous Colab exercises evaluated the trained model against the training set, which does not provide a strong signal about the quality of your model. In this Colab, you'll experiment with validation sets and test sets.\n",
        "\n",
        "\n",
        "\n",
        "\n"
      ]
    },
    {
      "attachments": {},
      "cell_type": "markdown",
      "metadata": {
        "colab_type": "text",
        "id": "3spZH_kNkWWX"
      },
      "source": [
        "## Learning objectives\n",
        "\n",
        "After doing this Colab, you'll know how to do the following:\n",
        "\n",
        "  * Split a [training set](https://developers.google.com/machine-learning/glossary/#training_set) into a smaller training set and a [validation set](https://developers.google.com/machine-learning/glossary/#validation_set).\n",
        "  * Analyze deltas between training set and validation set results.\n",
        "  * Test the trained model with a [test set](https://developers.google.com/machine-learning/glossary/#test_set) to determine whether your trained model is [overfitting](https://developers.google.com/machine-learning/glossary/#overfitting).\n",
        "  * Detect and fix a common training problem."
      ]
    },
    {
      "attachments": {},
      "cell_type": "markdown",
      "metadata": {
        "colab_type": "text",
        "id": "gV82DJO3kWpk"
      },
      "source": [
        "## The dataset\n",
        "\n",
        "As in the previous exercise, this exercise uses the [California Housing dataset](https://developers.google.com/machine-learning/crash-course/california-housing-data-description) to predict the `median_house_value` at the city block level.  Like many \"famous\" datasets, the California Housing Dataset actually consists of two separate datasets, each living in separate .csv files:\n",
        "\n",
        "* The training set is in `california_housing_train.csv`.\n",
        "* The test set is in `california_housing_test.csv`.\n",
        "\n",
        "You'll create the validation set by dividing the downloaded training set into two parts:\n",
        "\n",
        "* a smaller training set  \n",
        "* a validation set"
      ]
    },
    {
      "attachments": {},
      "cell_type": "markdown",
      "metadata": {
        "colab_type": "text",
        "id": "u84mXopntPFZ"
      },
      "source": [
        "## Use the right version of TensorFlow\n",
        "\n",
        "The following hidden code cell ensures that the Colab will run on TensorFlow 2.X."
      ]
    },
    {
      "cell_type": "code",
      "execution_count": null,
      "metadata": {
        "cellView": "form",
        "colab": {},
        "colab_type": "code",
        "id": "FBhNIdUatOU6"
      },
      "outputs": [],
      "source": [
        "#@title Run on TensorFlow 2.x\n",
        "%tensorflow_version 2.x"
      ]
    },
    {
      "attachments": {},
      "cell_type": "markdown",
      "metadata": {
        "colab_type": "text",
        "id": "S8gm6BpqRRuh"
      },
      "source": [
        "## Import relevant modules\n",
        "\n",
        "As before, this first code cell imports the necessary modules and sets a few display options."
      ]
    },
    {
      "cell_type": "code",
      "execution_count": 1,
      "metadata": {
        "cellView": "form",
        "colab": {},
        "colab_type": "code",
        "id": "9D8GgUovHbG0"
      },
      "outputs": [],
      "source": [
        "#@title Import modules\n",
        "import numpy as np\n",
        "import pandas as pd\n",
        "import tensorflow as tf\n",
        "from matplotlib import pyplot as plt\n",
        "\n",
        "pd.options.display.max_rows = 10\n",
        "pd.options.display.float_format = \"{:.1f}\".format"
      ]
    },
    {
      "attachments": {},
      "cell_type": "markdown",
      "metadata": {
        "colab_type": "text",
        "id": "xjvrrClQeAJu"
      },
      "source": [
        "## Load the datasets from the internet\n",
        "\n",
        "The following code cell loads the separate .csv files and creates the following two pandas DataFrames:\n",
        "\n",
        "* `train_df`, which contains the training set.\n",
        "* `test_df`, which contains the test set.\n",
        "\n"
      ]
    },
    {
      "cell_type": "code",
      "execution_count": 2,
      "metadata": {
        "colab": {},
        "colab_type": "code",
        "id": "zUnTc_wfd_o3"
      },
      "outputs": [],
      "source": [
        "train_df = pd.read_csv(\"https://download.mlcc.google.com/mledu-datasets/california_housing_train.csv\")\n",
        "test_df = pd.read_csv(\"https://download.mlcc.google.com/mledu-datasets/california_housing_test.csv\")"
      ]
    },
    {
      "attachments": {},
      "cell_type": "markdown",
      "metadata": {
        "colab_type": "text",
        "id": "P_KBdj2M_yjM"
      },
      "source": [
        "## Scale the label values\n",
        "\n",
        "The following code cell scales the `median_house_value`. \n",
        "See the previous Colab exercise for details."
      ]
    },
    {
      "cell_type": "code",
      "execution_count": 3,
      "metadata": {
        "colab": {},
        "colab_type": "code",
        "id": "3hc7QQhaAFXD"
      },
      "outputs": [],
      "source": [
        "scale_factor = 1000.0\n",
        "\n",
        "# Scale the training set's label.\n",
        "train_df[\"median_house_value\"] /= scale_factor \n",
        "\n",
        "# Scale the test set's label\n",
        "test_df[\"median_house_value\"] /= scale_factor"
      ]
    },
    {
      "attachments": {},
      "cell_type": "markdown",
      "metadata": {
        "colab_type": "text",
        "id": "FhessIIV8VPc"
      },
      "source": [
        "## Load the functions that build and train a model\n",
        "\n",
        "The following code cell defines two functions:\n",
        "\n",
        "  * `build_model`, which defines the model's topography.\n",
        "  * `train_model`, which will ultimately train the model, outputting not only the loss value for the training set but also the loss value for the validation set. \n",
        "\n",
        "Since you don't need to understand model building code right now, we've hidden this code cell. As always, you must run hidden code cells."
      ]
    },
    {
      "cell_type": "code",
      "execution_count": 4,
      "metadata": {
        "cellView": "form",
        "colab": {},
        "colab_type": "code",
        "id": "bvonhK857msj"
      },
      "outputs": [
        {
          "name": "stdout",
          "output_type": "stream",
          "text": [
            "Defined the build_model and train_model functions.\n"
          ]
        }
      ],
      "source": [
        "#@title Define the functions that build and train a model\n",
        "def build_model(my_learning_rate):\n",
        "  \"\"\"Create and compile a simple linear regression model.\"\"\"\n",
        "  # Most simple tf.keras models are sequential.\n",
        "  model = tf.keras.models.Sequential()\n",
        "\n",
        "  # Add one linear layer to the model to yield a simple linear regressor.\n",
        "  model.add(tf.keras.layers.Dense(units=1, input_shape=(1,)))\n",
        "\n",
        "  # Compile the model topography into code that TensorFlow can efficiently\n",
        "  # execute. Configure training to minimize the model's mean squared error. \n",
        "  model.compile(optimizer=tf.keras.optimizers.RMSprop(lr=my_learning_rate),\n",
        "                loss=\"mean_squared_error\",\n",
        "                metrics=[tf.keras.metrics.RootMeanSquaredError()])\n",
        "\n",
        "  return model               \n",
        "\n",
        "\n",
        "def train_model(model, df, feature, label, my_epochs, \n",
        "                my_batch_size=None, my_validation_split=0.1):\n",
        "  \"\"\"Feed a dataset into the model in order to train it.\"\"\"\n",
        "\n",
        "  history = model.fit(x=df[feature],\n",
        "                      y=df[label],\n",
        "                      batch_size=my_batch_size,\n",
        "                      epochs=my_epochs,\n",
        "                      validation_split=my_validation_split)\n",
        "\n",
        "  # Gather the model's trained weight and bias.\n",
        "  trained_weight = model.get_weights()[0]\n",
        "  trained_bias = model.get_weights()[1]\n",
        "\n",
        "  # The list of epochs is stored separately from the \n",
        "  # rest of history.\n",
        "  epochs = history.epoch\n",
        "  \n",
        "  # Isolate the root mean squared error for each epoch.\n",
        "  hist = pd.DataFrame(history.history)\n",
        "  rmse = hist[\"root_mean_squared_error\"]\n",
        "\n",
        "  return epochs, rmse, history.history   \n",
        "\n",
        "print(\"Defined the build_model and train_model functions.\")"
      ]
    },
    {
      "attachments": {},
      "cell_type": "markdown",
      "metadata": {
        "colab_type": "text",
        "id": "8gRu4Ri0D8tH"
      },
      "source": [
        "## Define plotting functions\n",
        "\n",
        "The `plot_the_loss_curve` function plots loss vs. epochs for both the training set and the validation set."
      ]
    },
    {
      "cell_type": "code",
      "execution_count": 5,
      "metadata": {
        "cellView": "form",
        "colab": {},
        "colab_type": "code",
        "id": "QA7hsqPZDvVM"
      },
      "outputs": [
        {
          "name": "stdout",
          "output_type": "stream",
          "text": [
            "Defined the plot_the_loss_curve function.\n"
          ]
        }
      ],
      "source": [
        "#@title Define the plotting function\n",
        "\n",
        "def plot_the_loss_curve(epochs, mae_training, mae_validation):\n",
        "  \"\"\"Plot a curve of loss vs. epoch.\"\"\"\n",
        "\n",
        "  plt.figure()\n",
        "  plt.xlabel(\"Epoch\")\n",
        "  plt.ylabel(\"Root Mean Squared Error\")\n",
        "\n",
        "  plt.plot(epochs[1:], mae_training[1:], label=\"Training Loss\")\n",
        "  plt.plot(epochs[1:], mae_validation[1:], label=\"Validation Loss\")\n",
        "  plt.legend()\n",
        "  \n",
        "  # We're not going to plot the first epoch, since the loss on the first epoch\n",
        "  # is often substantially greater than the loss for other epochs.\n",
        "  merged_mae_lists = mae_training[1:] + mae_validation[1:]\n",
        "  highest_loss = max(merged_mae_lists)\n",
        "  lowest_loss = min(merged_mae_lists)\n",
        "  delta = highest_loss - lowest_loss\n",
        "  print(delta)\n",
        "\n",
        "  top_of_y_axis = highest_loss + (delta * 0.05)\n",
        "  bottom_of_y_axis = lowest_loss - (delta * 0.05)\n",
        "   \n",
        "  plt.ylim([bottom_of_y_axis, top_of_y_axis])\n",
        "  plt.show()  \n",
        "\n",
        "print(\"Defined the plot_the_loss_curve function.\")"
      ]
    },
    {
      "attachments": {},
      "cell_type": "markdown",
      "metadata": {
        "colab_type": "text",
        "id": "jipBqEQXlsN8"
      },
      "source": [
        "## Task 1: Experiment with the validation split\n",
        "\n",
        "In the following code cell, you'll see a variable named `validation_split`, which we've initialized at 0.2.  The `validation_split` variable specifies the proportion of the original training set that will serve as the validation set. The original training set contains 17,000 examples. Therefore, a `validation_split` of 0.2 means that:\n",
        "\n",
        "* 17,000 * 0.2 ~= 3,400 examples will become the validation set.\n",
        "* 17,000 * 0.8 ~= 13,600 examples will become the new training set.\n",
        "\n",
        "The following code builds a model, trains it on the training set, and evaluates the built model on both:\n",
        "\n",
        "* The training set.\n",
        "* And the validation set.\n",
        "\n",
        "If the data in the training set is similar to the data in the validation set, then the two loss curves and the final loss values should be almost identical. However, the loss curves and final loss values are **not** almost identical. Hmm, that's odd.  \n",
        "\n",
        "Experiment with two or three different values of `validation_split`.  Do different values of `validation_split` fix the problem? \n"
      ]
    },
    {
      "cell_type": "code",
      "execution_count": 10,
      "metadata": {
        "colab": {},
        "colab_type": "code",
        "id": "knP23Taoa00a"
      },
      "outputs": [
        {
          "name": "stdout",
          "output_type": "stream",
          "text": [
            "Epoch 1/30\n",
            "111/111 [==============================] - 1s 2ms/step - loss: 42397.7500 - root_mean_squared_error: 205.9072 - val_loss: 38219.2500 - val_root_mean_squared_error: 195.4974\n",
            "Epoch 2/30\n",
            "111/111 [==============================] - 0s 2ms/step - loss: 27560.7871 - root_mean_squared_error: 166.0144 - val_loss: 24088.2012 - val_root_mean_squared_error: 155.2037\n",
            "Epoch 3/30\n",
            "111/111 [==============================] - 0s 2ms/step - loss: 16914.7598 - root_mean_squared_error: 130.0568 - val_loss: 14318.8154 - val_root_mean_squared_error: 119.6613\n",
            "Epoch 4/30\n",
            "111/111 [==============================] - 0s 1ms/step - loss: 10180.6982 - root_mean_squared_error: 100.8994 - val_loss: 8728.0430 - val_root_mean_squared_error: 93.4240\n",
            "Epoch 5/30\n",
            "111/111 [==============================] - 0s 2ms/step - loss: 7316.7646 - root_mean_squared_error: 85.5381 - val_loss: 7106.3765 - val_root_mean_squared_error: 84.2993\n",
            "Epoch 6/30\n",
            "111/111 [==============================] - 0s 2ms/step - loss: 6992.3271 - root_mean_squared_error: 83.6201 - val_loss: 7067.1733 - val_root_mean_squared_error: 84.0665\n",
            "Epoch 7/30\n",
            "111/111 [==============================] - 0s 2ms/step - loss: 6990.0552 - root_mean_squared_error: 83.6066 - val_loss: 7073.2529 - val_root_mean_squared_error: 84.1026\n",
            "Epoch 8/30\n",
            "111/111 [==============================] - 0s 1ms/step - loss: 6989.3545 - root_mean_squared_error: 83.6024 - val_loss: 7084.6230 - val_root_mean_squared_error: 84.1702\n",
            "Epoch 9/30\n",
            "111/111 [==============================] - 0s 1ms/step - loss: 6989.3262 - root_mean_squared_error: 83.6022 - val_loss: 7073.7358 - val_root_mean_squared_error: 84.1055\n",
            "Epoch 10/30\n",
            "111/111 [==============================] - 0s 1ms/step - loss: 6988.0229 - root_mean_squared_error: 83.5944 - val_loss: 7101.0122 - val_root_mean_squared_error: 84.2675\n",
            "Epoch 11/30\n",
            "111/111 [==============================] - 0s 2ms/step - loss: 6988.0659 - root_mean_squared_error: 83.5947 - val_loss: 7086.3286 - val_root_mean_squared_error: 84.1803\n",
            "Epoch 12/30\n",
            "111/111 [==============================] - 0s 1ms/step - loss: 6988.5386 - root_mean_squared_error: 83.5975 - val_loss: 7090.6738 - val_root_mean_squared_error: 84.2061\n",
            "Epoch 13/30\n",
            "111/111 [==============================] - 0s 2ms/step - loss: 6988.7637 - root_mean_squared_error: 83.5988 - val_loss: 7081.0815 - val_root_mean_squared_error: 84.1492\n",
            "Epoch 14/30\n",
            "111/111 [==============================] - 0s 2ms/step - loss: 6986.8242 - root_mean_squared_error: 83.5872 - val_loss: 7109.9126 - val_root_mean_squared_error: 84.3203\n",
            "Epoch 15/30\n",
            "111/111 [==============================] - 0s 2ms/step - loss: 6988.1069 - root_mean_squared_error: 83.5949 - val_loss: 7064.3564 - val_root_mean_squared_error: 84.0497\n",
            "Epoch 16/30\n",
            "111/111 [==============================] - 0s 2ms/step - loss: 6988.1982 - root_mean_squared_error: 83.5954 - val_loss: 7078.9614 - val_root_mean_squared_error: 84.1366\n",
            "Epoch 17/30\n",
            "111/111 [==============================] - 0s 1ms/step - loss: 6987.7319 - root_mean_squared_error: 83.5927 - val_loss: 7093.5430 - val_root_mean_squared_error: 84.2232\n",
            "Epoch 18/30\n",
            "111/111 [==============================] - 0s 2ms/step - loss: 6984.7861 - root_mean_squared_error: 83.5750 - val_loss: 7134.7778 - val_root_mean_squared_error: 84.4676\n",
            "Epoch 19/30\n",
            "111/111 [==============================] - 0s 1ms/step - loss: 6988.6445 - root_mean_squared_error: 83.5981 - val_loss: 7103.5259 - val_root_mean_squared_error: 84.2824\n",
            "Epoch 20/30\n",
            "111/111 [==============================] - 0s 1ms/step - loss: 6985.7114 - root_mean_squared_error: 83.5806 - val_loss: 7072.7969 - val_root_mean_squared_error: 84.0999\n",
            "Epoch 21/30\n",
            "111/111 [==============================] - 0s 1ms/step - loss: 6986.1631 - root_mean_squared_error: 83.5833 - val_loss: 7061.1221 - val_root_mean_squared_error: 84.0305\n",
            "Epoch 22/30\n",
            "111/111 [==============================] - 0s 1ms/step - loss: 6987.8408 - root_mean_squared_error: 83.5933 - val_loss: 7084.0874 - val_root_mean_squared_error: 84.1670\n",
            "Epoch 23/30\n",
            "111/111 [==============================] - 0s 1ms/step - loss: 6987.6611 - root_mean_squared_error: 83.5922 - val_loss: 7081.4951 - val_root_mean_squared_error: 84.1516\n",
            "Epoch 24/30\n",
            "111/111 [==============================] - 0s 1ms/step - loss: 6987.2993 - root_mean_squared_error: 83.5901 - val_loss: 7077.5562 - val_root_mean_squared_error: 84.1282\n",
            "Epoch 25/30\n",
            "111/111 [==============================] - 0s 2ms/step - loss: 6987.5532 - root_mean_squared_error: 83.5916 - val_loss: 7085.1270 - val_root_mean_squared_error: 84.1732\n",
            "Epoch 26/30\n",
            "111/111 [==============================] - 0s 2ms/step - loss: 6986.8120 - root_mean_squared_error: 83.5872 - val_loss: 7096.4727 - val_root_mean_squared_error: 84.2406\n",
            "Epoch 27/30\n",
            "111/111 [==============================] - 0s 2ms/step - loss: 6988.4097 - root_mean_squared_error: 83.5967 - val_loss: 7075.2510 - val_root_mean_squared_error: 84.1145\n",
            "Epoch 28/30\n",
            "111/111 [==============================] - 0s 2ms/step - loss: 6987.8066 - root_mean_squared_error: 83.5931 - val_loss: 7091.2188 - val_root_mean_squared_error: 84.2094\n",
            "Epoch 29/30\n",
            "111/111 [==============================] - 0s 1ms/step - loss: 6988.1377 - root_mean_squared_error: 83.5951 - val_loss: 7086.5171 - val_root_mean_squared_error: 84.1814\n",
            "Epoch 30/30\n",
            "111/111 [==============================] - 0s 2ms/step - loss: 6986.0161 - root_mean_squared_error: 83.5824 - val_loss: 7094.5869 - val_root_mean_squared_error: 84.2294\n",
            "82.43938446044922\n"
          ]
        },
        {
          "data": {
            "image/png": "[encoded data removed]",
            "text/plain": [
              "<Figure size 432x288 with 1 Axes>"
            ]
          },
          "metadata": {
            "needs_background": "light"
          },
          "output_type": "display_data"
        }
      ],
      "source": [
        "# The following variables are the hyperparameters.\n",
        "learning_rate = 0.08\n",
        "epochs = 30\n",
        "batch_size = 100\n",
        "\n",
        "# Split the original training set into a reduced training set and a\n",
        "# validation set. \n",
        "validation_split=0.35\n",
        "\n",
        "# Identify the feature and the label.\n",
        "my_feature=\"median_income\"  # the median income on a specific city block.\n",
        "my_label=\"median_house_value\" # the median value of a house on a specific city block.\n",
        "# That is, you're going to create a model that predicts house value based \n",
        "# solely on the neighborhood's median income.  \n",
        "\n",
        "# Discard any pre-existing version of the model.\n",
        "my_model = None\n",
        "\n",
        "# Invoke the functions to build and train the model.\n",
        "my_model = build_model(learning_rate)\n",
        "epochs, rmse, history = train_model(my_model, train_df, my_feature, \n",
        "                                    my_label, epochs, batch_size, \n",
        "                                    validation_split)\n",
        "\n",
        "plot_the_loss_curve(epochs, history[\"root_mean_squared_error\"], \n",
        "                    history[\"val_root_mean_squared_error\"])"
      ]
    },
    {
      "attachments": {},
      "cell_type": "markdown",
      "metadata": {
        "colab_type": "text",
        "id": "TKa11JK4Pm3f"
      },
      "source": [
        "## Task 2: Determine **why** the loss curves differ\n",
        "\n",
        "No matter how you split the training set and the validation set, the loss curves differ significantly. Evidently, the data in the training set isn't similar enough to the data in the validation set. Counterintuitive? Yes, but this problem is actually pretty common in machine learning. \n",
        "\n",
        "Your task is to determine **why** the loss curves aren't highly similar. As with most issues in machine learning, the problem is rooted in the data itself. To solve this mystery of why the training set and validation set aren't almost identical, write a line or two of [pandas code](https://colab.research.google.com/drive/1gUeYFsYmoyqpQJWq7krrZZNUFvBPwrJf) in the following code cell.  Here are a couple of hints:\n",
        "\n",
        "  * The previous code cell split the original training set into:\n",
        "    * a reduced training set (the original training set - the validation set)\n",
        "    * the validation set \n",
        "  * By default, the pandas [`head`](https://pandas.pydata.org/pandas-docs/stable/reference/api/pandas.DataFrame.head.html) method outputs the *first* 5 rows of the DataFrame. To see more of the training set, specify the `n` argument to `head` and assign a large positive integer to `n`."
      ]
    },
    {
      "cell_type": "code",
      "execution_count": 11,
      "metadata": {
        "colab": {},
        "colab_type": "code",
        "id": "VJQcAZkwJt_p"
      },
      "outputs": [
        {
          "data": {
            "text/html": [
              "<div>\n",
              "<style scoped>\n",
              "    .dataframe tbody tr th:only-of-type {\n",
              "        vertical-align: middle;\n",
              "    }\n",
              "\n",
              "    .dataframe tbody tr th {\n",
              "        vertical-align: top;\n",
              "    }\n",
              "\n",
              "    .dataframe thead th {\n",
              "        text-align: right;\n",
              "    }\n",
              "</style>\n",
              "<table border=\"1\" class=\"dataframe\">\n",
              "  <thead>\n",
              "    <tr style=\"text-align: right;\">\n",
              "      <th></th>\n",
              "      <th>longitude</th>\n",
              "      <th>latitude</th>\n",
              "      <th>housing_median_age</th>\n",
              "      <th>total_rooms</th>\n",
              "      <th>total_bedrooms</th>\n",
              "      <th>population</th>\n",
              "      <th>households</th>\n",
              "      <th>median_income</th>\n",
              "      <th>median_house_value</th>\n",
              "    </tr>\n",
              "  </thead>\n",
              "  <tbody>\n",
              "    <tr>\n",
              "      <th>0</th>\n",
              "      <td>-114.3</td>\n",
              "      <td>34.2</td>\n",
              "      <td>15.0</td>\n",
              "      <td>5612.0</td>\n",
              "      <td>1283.0</td>\n",
              "      <td>1015.0</td>\n",
              "      <td>472.0</td>\n",
              "      <td>1.5</td>\n",
              "      <td>66.9</td>\n",
              "    </tr>\n",
              "    <tr>\n",
              "      <th>1</th>\n",
              "      <td>-114.5</td>\n",
              "      <td>34.4</td>\n",
              "      <td>19.0</td>\n",
              "      <td>7650.0</td>\n",
              "      <td>1901.0</td>\n",
              "      <td>1129.0</td>\n",
              "      <td>463.0</td>\n",
              "      <td>1.8</td>\n",
              "      <td>80.1</td>\n",
              "    </tr>\n",
              "    <tr>\n",
              "      <th>2</th>\n",
              "      <td>-114.6</td>\n",
              "      <td>33.7</td>\n",
              "      <td>17.0</td>\n",
              "      <td>720.0</td>\n",
              "      <td>174.0</td>\n",
              "      <td>333.0</td>\n",
              "      <td>117.0</td>\n",
              "      <td>1.7</td>\n",
              "      <td>85.7</td>\n",
              "    </tr>\n",
              "    <tr>\n",
              "      <th>3</th>\n",
              "      <td>-114.6</td>\n",
              "      <td>33.6</td>\n",
              "      <td>14.0</td>\n",
              "      <td>1501.0</td>\n",
              "      <td>337.0</td>\n",
              "      <td>515.0</td>\n",
              "      <td>226.0</td>\n",
              "      <td>3.2</td>\n",
              "      <td>73.4</td>\n",
              "    </tr>\n",
              "    <tr>\n",
              "      <th>4</th>\n",
              "      <td>-114.6</td>\n",
              "      <td>33.6</td>\n",
              "      <td>20.0</td>\n",
              "      <td>1454.0</td>\n",
              "      <td>326.0</td>\n",
              "      <td>624.0</td>\n",
              "      <td>262.0</td>\n",
              "      <td>1.9</td>\n",
              "      <td>65.5</td>\n",
              "    </tr>\n",
              "    <tr>\n",
              "      <th>...</th>\n",
              "      <td>...</td>\n",
              "      <td>...</td>\n",
              "      <td>...</td>\n",
              "      <td>...</td>\n",
              "      <td>...</td>\n",
              "      <td>...</td>\n",
              "      <td>...</td>\n",
              "      <td>...</td>\n",
              "      <td>...</td>\n",
              "    </tr>\n",
              "    <tr>\n",
              "      <th>995</th>\n",
              "      <td>-117.1</td>\n",
              "      <td>32.5</td>\n",
              "      <td>8.0</td>\n",
              "      <td>6533.0</td>\n",
              "      <td>1217.0</td>\n",
              "      <td>4797.0</td>\n",
              "      <td>1177.0</td>\n",
              "      <td>4.0</td>\n",
              "      <td>144.4</td>\n",
              "    </tr>\n",
              "    <tr>\n",
              "      <th>996</th>\n",
              "      <td>-117.1</td>\n",
              "      <td>34.6</td>\n",
              "      <td>6.0</td>\n",
              "      <td>5110.0</td>\n",
              "      <td>1044.0</td>\n",
              "      <td>1938.0</td>\n",
              "      <td>724.0</td>\n",
              "      <td>3.2</td>\n",
              "      <td>112.8</td>\n",
              "    </tr>\n",
              "    <tr>\n",
              "      <th>997</th>\n",
              "      <td>-117.1</td>\n",
              "      <td>34.2</td>\n",
              "      <td>22.0</td>\n",
              "      <td>4397.0</td>\n",
              "      <td>931.0</td>\n",
              "      <td>1145.0</td>\n",
              "      <td>445.0</td>\n",
              "      <td>4.5</td>\n",
              "      <td>108.4</td>\n",
              "    </tr>\n",
              "    <tr>\n",
              "      <th>998</th>\n",
              "      <td>-117.1</td>\n",
              "      <td>34.0</td>\n",
              "      <td>24.0</td>\n",
              "      <td>4144.0</td>\n",
              "      <td>826.0</td>\n",
              "      <td>2127.0</td>\n",
              "      <td>772.0</td>\n",
              "      <td>2.5</td>\n",
              "      <td>96.0</td>\n",
              "    </tr>\n",
              "    <tr>\n",
              "      <th>999</th>\n",
              "      <td>-117.1</td>\n",
              "      <td>33.6</td>\n",
              "      <td>6.0</td>\n",
              "      <td>1868.0</td>\n",
              "      <td>289.0</td>\n",
              "      <td>750.0</td>\n",
              "      <td>247.0</td>\n",
              "      <td>4.4</td>\n",
              "      <td>307.6</td>\n",
              "    </tr>\n",
              "  </tbody>\n",
              "</table>\n",
              "<p>1000 rows × 9 columns</p>\n",
              "</div>"
            ],
            "text/plain": [
              "     longitude  latitude  housing_median_age  total_rooms  total_bedrooms  \\\n",
              "0       -114.3      34.2                15.0       5612.0          1283.0   \n",
              "1       -114.5      34.4                19.0       7650.0          1901.0   \n",
              "2       -114.6      33.7                17.0        720.0           174.0   \n",
              "3       -114.6      33.6                14.0       1501.0           337.0   \n",
              "4       -114.6      33.6                20.0       1454.0           326.0   \n",
              "..         ...       ...                 ...          ...             ...   \n",
              "995     -117.1      32.5                 8.0       6533.0          1217.0   \n",
              "996     -117.1      34.6                 6.0       5110.0          1044.0   \n",
              "997     -117.1      34.2                22.0       4397.0           931.0   \n",
              "998     -117.1      34.0                24.0       4144.0           826.0   \n",
              "999     -117.1      33.6                 6.0       1868.0           289.0   \n",
              "\n",
              "     population  households  median_income  median_house_value  \n",
              "0        1015.0       472.0            1.5                66.9  \n",
              "1        1129.0       463.0            1.8                80.1  \n",
              "2         333.0       117.0            1.7                85.7  \n",
              "3         515.0       226.0            3.2                73.4  \n",
              "4         624.0       262.0            1.9                65.5  \n",
              "..          ...         ...            ...                 ...  \n",
              "995      4797.0      1177.0            4.0               144.4  \n",
              "996      1938.0       724.0            3.2               112.8  \n",
              "997      1145.0       445.0            4.5               108.4  \n",
              "998      2127.0       772.0            2.5                96.0  \n",
              "999       750.0       247.0            4.4               307.6  \n",
              "\n",
              "[1000 rows x 9 columns]"
            ]
          },
          "execution_count": 11,
          "metadata": {},
          "output_type": "execute_result"
        }
      ],
      "source": [
        "# Write some code in this code cell.\n",
        "train_df.head(n=1000)"
      ]
    },
    {
      "cell_type": "code",
      "execution_count": null,
      "metadata": {
        "cellView": "form",
        "colab": {},
        "colab_type": "code",
        "id": "EnNvkFwwK8WY"
      },
      "outputs": [],
      "source": [
        "#@title Double-click for a possible solution to Task 2.\n",
        "\n",
        "# Examine examples 0 through 4 and examples 25 through 29\n",
        "# of the training set\n",
        "train_df.head(n=1000)\n",
        "\n",
        "# The original training set is sorted by longitude. \n",
        "# Apparently, longitude influences the relationship of\n",
        "# total_rooms to median_house_value."
      ]
    },
    {
      "attachments": {},
      "cell_type": "markdown",
      "metadata": {
        "colab_type": "text",
        "id": "rw4xI1ZEckI8"
      },
      "source": [
        "## Task 3. Fix the problem\n",
        "\n",
        "To fix the problem, shuffle the examples in the training set before splitting the examples into a training set and validation set. To do so, take the following steps:\n",
        "\n",
        "1. Shuffle the data in the training set by adding the following line anywhere before you call `train_model` (in the code cell associated with Task 1):\n",
        "\n",
        "```\n",
        "  shuffled_train_df = train_df.reindex(np.random.permutation(train_df.index))\n",
        "```                                    \n",
        "\n",
        "2. Pass `shuffled_train_df` (instead of `train_df`) as the second argument to `train_model` (in the code call associated with Task 1) so that the call becomes as follows:\n",
        "\n",
        "```\n",
        "  epochs, rmse, history = train_model(my_model, shuffled_train_df, my_feature, \n",
        "                                      my_label, epochs, batch_size, \n",
        "                                      validation_split)\n",
        "```"
      ]
    },
    {
      "cell_type": "code",
      "execution_count": 15,
      "metadata": {
        "cellView": "form",
        "colab": {},
        "colab_type": "code",
        "id": "ncODhpv0h-LG"
      },
      "outputs": [
        {
          "name": "stdout",
          "output_type": "stream",
          "text": [
            "Epoch 1/70\n",
            "145/145 [==============================] - 1s 2ms/step - loss: 43988.2852 - root_mean_squared_error: 209.7338 - val_loss: 33158.6211 - val_root_mean_squared_error: 182.0951\n",
            "Epoch 2/70\n",
            "145/145 [==============================] - 0s 1ms/step - loss: 24768.4863 - root_mean_squared_error: 157.3801 - val_loss: 17609.0977 - val_root_mean_squared_error: 132.6993\n",
            "Epoch 3/70\n",
            "145/145 [==============================] - 0s 1ms/step - loss: 12760.2764 - root_mean_squared_error: 112.9614 - val_loss: 9124.2754 - val_root_mean_squared_error: 95.5211\n",
            "Epoch 4/70\n",
            "145/145 [==============================] - 0s 1ms/step - loss: 7645.7861 - root_mean_squared_error: 87.4402 - val_loss: 7065.1436 - val_root_mean_squared_error: 84.0544\n",
            "Epoch 5/70\n",
            "145/145 [==============================] - 0s 1ms/step - loss: 7007.8604 - root_mean_squared_error: 83.7130 - val_loss: 7058.1860 - val_root_mean_squared_error: 84.0130\n",
            "Epoch 6/70\n",
            "145/145 [==============================] - 0s 1ms/step - loss: 7007.4390 - root_mean_squared_error: 83.7104 - val_loss: 7058.2236 - val_root_mean_squared_error: 84.0132\n",
            "Epoch 7/70\n",
            "145/145 [==============================] - 0s 1ms/step - loss: 7007.9204 - root_mean_squared_error: 83.7133 - val_loss: 7058.3081 - val_root_mean_squared_error: 84.0137\n",
            "Epoch 8/70\n",
            "145/145 [==============================] - 0s 1ms/step - loss: 7005.8604 - root_mean_squared_error: 83.7010 - val_loss: 7067.1694 - val_root_mean_squared_error: 84.0665\n",
            "Epoch 9/70\n",
            "145/145 [==============================] - 0s 1ms/step - loss: 7006.0479 - root_mean_squared_error: 83.7021 - val_loss: 7060.4136 - val_root_mean_squared_error: 84.0263\n",
            "Epoch 10/70\n",
            "145/145 [==============================] - 0s 1ms/step - loss: 7007.0864 - root_mean_squared_error: 83.7083 - val_loss: 7058.3442 - val_root_mean_squared_error: 84.0140\n",
            "Epoch 11/70\n",
            "145/145 [==============================] - 0s 1ms/step - loss: 7007.7319 - root_mean_squared_error: 83.7122 - val_loss: 7058.5732 - val_root_mean_squared_error: 84.0153\n",
            "Epoch 12/70\n",
            "145/145 [==============================] - 0s 1ms/step - loss: 7007.6060 - root_mean_squared_error: 83.7114 - val_loss: 7059.0786 - val_root_mean_squared_error: 84.0183\n",
            "Epoch 13/70\n",
            "145/145 [==============================] - 0s 1ms/step - loss: 7006.5146 - root_mean_squared_error: 83.7049 - val_loss: 7060.7373 - val_root_mean_squared_error: 84.0282\n",
            "Epoch 14/70\n",
            "145/145 [==============================] - 0s 1ms/step - loss: 7005.8481 - root_mean_squared_error: 83.7009 - val_loss: 7058.5679 - val_root_mean_squared_error: 84.0153\n",
            "Epoch 15/70\n",
            "145/145 [==============================] - 0s 1ms/step - loss: 7007.3813 - root_mean_squared_error: 83.7101 - val_loss: 7058.9561 - val_root_mean_squared_error: 84.0176\n",
            "Epoch 16/70\n",
            "145/145 [==============================] - 0s 1ms/step - loss: 7006.1294 - root_mean_squared_error: 83.7026 - val_loss: 7059.9600 - val_root_mean_squared_error: 84.0236\n",
            "Epoch 17/70\n",
            "145/145 [==============================] - 0s 1ms/step - loss: 7006.5859 - root_mean_squared_error: 83.7054 - val_loss: 7058.4009 - val_root_mean_squared_error: 84.0143\n",
            "Epoch 18/70\n",
            "145/145 [==============================] - 0s 1ms/step - loss: 7006.9077 - root_mean_squared_error: 83.7073 - val_loss: 7058.5601 - val_root_mean_squared_error: 84.0152\n",
            "Epoch 19/70\n",
            "145/145 [==============================] - 0s 1ms/step - loss: 7007.0371 - root_mean_squared_error: 83.7080 - val_loss: 7058.8086 - val_root_mean_squared_error: 84.0167\n",
            "Epoch 20/70\n",
            "145/145 [==============================] - 0s 1ms/step - loss: 7005.6162 - root_mean_squared_error: 83.6996 - val_loss: 7066.4902 - val_root_mean_squared_error: 84.0624\n",
            "Epoch 21/70\n",
            "145/145 [==============================] - 0s 1ms/step - loss: 7005.7280 - root_mean_squared_error: 83.7002 - val_loss: 7061.0571 - val_root_mean_squared_error: 84.0301\n",
            "Epoch 22/70\n",
            "145/145 [==============================] - 0s 1ms/step - loss: 7006.2061 - root_mean_squared_error: 83.7031 - val_loss: 7059.7139 - val_root_mean_squared_error: 84.0221\n",
            "Epoch 23/70\n",
            "145/145 [==============================] - 0s 1ms/step - loss: 7007.4619 - root_mean_squared_error: 83.7106 - val_loss: 7058.3984 - val_root_mean_squared_error: 84.0143\n",
            "Epoch 24/70\n",
            "145/145 [==============================] - 0s 1ms/step - loss: 7005.7510 - root_mean_squared_error: 83.7004 - val_loss: 7064.2119 - val_root_mean_squared_error: 84.0489\n",
            "Epoch 25/70\n",
            "145/145 [==============================] - 0s 1ms/step - loss: 7006.4785 - root_mean_squared_error: 83.7047 - val_loss: 7058.2500 - val_root_mean_squared_error: 84.0134\n",
            "Epoch 26/70\n",
            "145/145 [==============================] - 0s 1ms/step - loss: 7006.0034 - root_mean_squared_error: 83.7019 - val_loss: 7058.4839 - val_root_mean_squared_error: 84.0148\n",
            "Epoch 27/70\n",
            "145/145 [==============================] - 0s 1ms/step - loss: 7007.4199 - root_mean_squared_error: 83.7103 - val_loss: 7058.4194 - val_root_mean_squared_error: 84.0144\n",
            "Epoch 28/70\n",
            "145/145 [==============================] - 0s 1ms/step - loss: 7007.2900 - root_mean_squared_error: 83.7096 - val_loss: 7062.2275 - val_root_mean_squared_error: 84.0371\n",
            "Epoch 29/70\n",
            "145/145 [==============================] - 0s 1ms/step - loss: 7008.0171 - root_mean_squared_error: 83.7139 - val_loss: 7058.9468 - val_root_mean_squared_error: 84.0175\n",
            "Epoch 30/70\n",
            "145/145 [==============================] - 0s 1ms/step - loss: 7006.9038 - root_mean_squared_error: 83.7073 - val_loss: 7058.2988 - val_root_mean_squared_error: 84.0137\n",
            "Epoch 31/70\n",
            "145/145 [==============================] - 0s 1ms/step - loss: 7006.4448 - root_mean_squared_error: 83.7045 - val_loss: 7059.1719 - val_root_mean_squared_error: 84.0189\n",
            "Epoch 32/70\n",
            "145/145 [==============================] - 0s 1ms/step - loss: 7007.1260 - root_mean_squared_error: 83.7086 - val_loss: 7058.3696 - val_root_mean_squared_error: 84.0141\n",
            "Epoch 33/70\n",
            "145/145 [==============================] - 0s 1ms/step - loss: 7006.7100 - root_mean_squared_error: 83.7061 - val_loss: 7058.4556 - val_root_mean_squared_error: 84.0146\n",
            "Epoch 34/70\n",
            "145/145 [==============================] - 0s 1ms/step - loss: 7006.7798 - root_mean_squared_error: 83.7065 - val_loss: 7060.1323 - val_root_mean_squared_error: 84.0246\n",
            "Epoch 35/70\n",
            "145/145 [==============================] - 0s 1ms/step - loss: 7004.3848 - root_mean_squared_error: 83.6922 - val_loss: 7060.1167 - val_root_mean_squared_error: 84.0245\n",
            "Epoch 36/70\n",
            "145/145 [==============================] - 0s 1ms/step - loss: 7006.5474 - root_mean_squared_error: 83.7051 - val_loss: 7061.7231 - val_root_mean_squared_error: 84.0341\n",
            "Epoch 37/70\n",
            "145/145 [==============================] - 0s 1ms/step - loss: 7006.3696 - root_mean_squared_error: 83.7041 - val_loss: 7061.5850 - val_root_mean_squared_error: 84.0332\n",
            "Epoch 38/70\n",
            "145/145 [==============================] - 0s 1ms/step - loss: 7007.2192 - root_mean_squared_error: 83.7091 - val_loss: 7058.2651 - val_root_mean_squared_error: 84.0135\n",
            "Epoch 39/70\n",
            "145/145 [==============================] - 0s 1ms/step - loss: 7003.6846 - root_mean_squared_error: 83.6880 - val_loss: 7065.8315 - val_root_mean_squared_error: 84.0585\n",
            "Epoch 40/70\n",
            "145/145 [==============================] - 0s 1ms/step - loss: 7007.0171 - root_mean_squared_error: 83.7079 - val_loss: 7059.2124 - val_root_mean_squared_error: 84.0191\n",
            "Epoch 41/70\n",
            "145/145 [==============================] - 0s 1ms/step - loss: 7006.2544 - root_mean_squared_error: 83.7034 - val_loss: 7059.4854 - val_root_mean_squared_error: 84.0207\n",
            "Epoch 42/70\n",
            "145/145 [==============================] - 0s 1ms/step - loss: 7006.8374 - root_mean_squared_error: 83.7069 - val_loss: 7058.3120 - val_root_mean_squared_error: 84.0138\n",
            "Epoch 43/70\n",
            "145/145 [==============================] - 0s 1ms/step - loss: 7007.0005 - root_mean_squared_error: 83.7078 - val_loss: 7060.5654 - val_root_mean_squared_error: 84.0272\n",
            "Epoch 44/70\n",
            "145/145 [==============================] - 0s 1ms/step - loss: 7007.4624 - root_mean_squared_error: 83.7106 - val_loss: 7059.2500 - val_root_mean_squared_error: 84.0193\n",
            "Epoch 45/70\n",
            "145/145 [==============================] - 0s 1ms/step - loss: 7007.4199 - root_mean_squared_error: 83.7103 - val_loss: 7059.9331 - val_root_mean_squared_error: 84.0234\n",
            "Epoch 46/70\n",
            "145/145 [==============================] - 0s 1ms/step - loss: 7007.5488 - root_mean_squared_error: 83.7111 - val_loss: 7060.7080 - val_root_mean_squared_error: 84.0280\n",
            "Epoch 47/70\n",
            "145/145 [==============================] - 0s 1ms/step - loss: 7007.0122 - root_mean_squared_error: 83.7079 - val_loss: 7058.5522 - val_root_mean_squared_error: 84.0152\n",
            "Epoch 48/70\n",
            "145/145 [==============================] - 0s 1ms/step - loss: 7005.8950 - root_mean_squared_error: 83.7012 - val_loss: 7058.5356 - val_root_mean_squared_error: 84.0151\n",
            "Epoch 49/70\n",
            "145/145 [==============================] - 0s 1ms/step - loss: 7006.7310 - root_mean_squared_error: 83.7062 - val_loss: 7059.6870 - val_root_mean_squared_error: 84.0219\n",
            "Epoch 50/70\n",
            "145/145 [==============================] - 0s 1ms/step - loss: 7007.0166 - root_mean_squared_error: 83.7079 - val_loss: 7060.9521 - val_root_mean_squared_error: 84.0295\n",
            "Epoch 51/70\n",
            "145/145 [==============================] - 0s 1ms/step - loss: 7007.5195 - root_mean_squared_error: 83.7109 - val_loss: 7059.2871 - val_root_mean_squared_error: 84.0196\n",
            "Epoch 52/70\n",
            "145/145 [==============================] - 0s 1ms/step - loss: 7007.2681 - root_mean_squared_error: 83.7094 - val_loss: 7058.5488 - val_root_mean_squared_error: 84.0152\n",
            "Epoch 53/70\n",
            "145/145 [==============================] - 0s 1ms/step - loss: 7005.8286 - root_mean_squared_error: 83.7008 - val_loss: 7060.9805 - val_root_mean_squared_error: 84.0296\n",
            "Epoch 54/70\n",
            "145/145 [==============================] - 0s 1ms/step - loss: 7007.7017 - root_mean_squared_error: 83.7120 - val_loss: 7058.9507 - val_root_mean_squared_error: 84.0176\n",
            "Epoch 55/70\n",
            "145/145 [==============================] - 0s 1ms/step - loss: 7006.5825 - root_mean_squared_error: 83.7053 - val_loss: 7058.4912 - val_root_mean_squared_error: 84.0148\n",
            "Epoch 56/70\n",
            "145/145 [==============================] - 0s 1ms/step - loss: 7007.1934 - root_mean_squared_error: 83.7090 - val_loss: 7058.9741 - val_root_mean_squared_error: 84.0177\n",
            "Epoch 57/70\n",
            "145/145 [==============================] - 0s 1ms/step - loss: 7007.5957 - root_mean_squared_error: 83.7114 - val_loss: 7058.4048 - val_root_mean_squared_error: 84.0143\n",
            "Epoch 58/70\n",
            "145/145 [==============================] - 0s 1ms/step - loss: 7006.2910 - root_mean_squared_error: 83.7036 - val_loss: 7064.9536 - val_root_mean_squared_error: 84.0533\n",
            "Epoch 59/70\n",
            "145/145 [==============================] - 0s 1ms/step - loss: 7004.7119 - root_mean_squared_error: 83.6942 - val_loss: 7065.4849 - val_root_mean_squared_error: 84.0564\n",
            "Epoch 60/70\n",
            "145/145 [==============================] - 0s 1ms/step - loss: 7007.7427 - root_mean_squared_error: 83.7123 - val_loss: 7058.3726 - val_root_mean_squared_error: 84.0141\n",
            "Epoch 61/70\n",
            "145/145 [==============================] - 0s 1ms/step - loss: 7006.7954 - root_mean_squared_error: 83.7066 - val_loss: 7058.3701 - val_root_mean_squared_error: 84.0141\n",
            "Epoch 62/70\n",
            "145/145 [==============================] - 0s 1ms/step - loss: 7005.0801 - root_mean_squared_error: 83.6964 - val_loss: 7061.7617 - val_root_mean_squared_error: 84.0343\n",
            "Epoch 63/70\n",
            "145/145 [==============================] - 0s 1ms/step - loss: 7006.8623 - root_mean_squared_error: 83.7070 - val_loss: 7062.3120 - val_root_mean_squared_error: 84.0376\n",
            "Epoch 64/70\n",
            "145/145 [==============================] - 0s 1ms/step - loss: 7007.2671 - root_mean_squared_error: 83.7094 - val_loss: 7058.4272 - val_root_mean_squared_error: 84.0145\n",
            "Epoch 65/70\n",
            "145/145 [==============================] - 0s 1ms/step - loss: 7007.1426 - root_mean_squared_error: 83.7087 - val_loss: 7058.3701 - val_root_mean_squared_error: 84.0141\n",
            "Epoch 66/70\n",
            "145/145 [==============================] - 0s 1ms/step - loss: 7007.2568 - root_mean_squared_error: 83.7094 - val_loss: 7059.0571 - val_root_mean_squared_error: 84.0182\n",
            "Epoch 67/70\n",
            "145/145 [==============================] - 0s 1ms/step - loss: 7007.4604 - root_mean_squared_error: 83.7106 - val_loss: 7060.7319 - val_root_mean_squared_error: 84.0282\n",
            "Epoch 68/70\n",
            "145/145 [==============================] - 0s 1ms/step - loss: 7006.3550 - root_mean_squared_error: 83.7040 - val_loss: 7061.5239 - val_root_mean_squared_error: 84.0329\n",
            "Epoch 69/70\n",
            "145/145 [==============================] - 0s 1ms/step - loss: 7007.8701 - root_mean_squared_error: 83.7130 - val_loss: 7058.2832 - val_root_mean_squared_error: 84.0136\n",
            "Epoch 70/70\n",
            "145/145 [==============================] - 0s 1ms/step - loss: 7007.0454 - root_mean_squared_error: 83.7081 - val_loss: 7058.3955 - val_root_mean_squared_error: 84.0143\n",
            "73.69204711914062\n"
          ]
        },
        {
          "data": {
            "image/png": "[encoded data removed]",
            "text/plain": [
              "<Figure size 432x288 with 1 Axes>"
            ]
          },
          "metadata": {
            "needs_background": "light"
          },
          "output_type": "display_data"
        }
      ],
      "source": [
        "#@title Double-click to view the complete implementation.\n",
        "\n",
        "# The following variables are the hyperparameters.\n",
        "learning_rate = 0.08\n",
        "epochs = 70\n",
        "batch_size = 100\n",
        "\n",
        "# Split the original training set into a reduced training set and a\n",
        "# validation set. \n",
        "validation_split=0.15\n",
        "\n",
        "# Identify the feature and the label.\n",
        "my_feature=\"median_income\"  # the median income on a specific city block.\n",
        "my_label=\"median_house_value\" # the median value of a house on a specific city block.\n",
        "# That is, you're going to create a model that predicts house value based \n",
        "# solely on the neighborhood's median income.  \n",
        "\n",
        "# Discard any pre-existing version of the model.\n",
        "my_model = None\n",
        "\n",
        "# Shuffle the examples.\n",
        "shuffled_train_df = train_df.reindex(np.random.permutation(train_df.index)) \n",
        "\n",
        "# Invoke the functions to build and train the model. Train on the shuffled\n",
        "# training set.\n",
        "my_model = build_model(learning_rate)\n",
        "epochs, rmse, history = train_model(my_model, shuffled_train_df, my_feature, \n",
        "                                    my_label, epochs, batch_size, \n",
        "                                    validation_split)\n",
        "\n",
        "plot_the_loss_curve(epochs, history[\"root_mean_squared_error\"], \n",
        "                    history[\"val_root_mean_squared_error\"])"
      ]
    },
    {
      "attachments": {},
      "cell_type": "markdown",
      "metadata": {
        "colab_type": "text",
        "id": "tKN239_miW8C"
      },
      "source": [
        "Experiment with `validation_split` to answer the following questions:\n",
        "\n",
        "* With the training set shuffled, is the final loss for the training set closer to the final loss for the validation set?  \n",
        "* At what range of values of `validation_split` do the final loss values for the training set and validation set diverge meaningfully?  Why?"
      ]
    },
    {
      "cell_type": "code",
      "execution_count": null,
      "metadata": {
        "cellView": "form",
        "colab": {},
        "colab_type": "code",
        "id": "-UAJ3Q86iz31"
      },
      "outputs": [],
      "source": [
        "#@title Double-click for the answers to the questions\n",
        "\n",
        "# Yes, after shuffling the original training set, \n",
        "# the final loss for the training set and the \n",
        "# validation set become much closer.\n",
        "\n",
        "# If validation_split < 0.15,\n",
        "# the final loss values for the training set and\n",
        "# validation set diverge meaningfully.  Apparently,\n",
        "# the validation set no longer contains enough examples. "
      ]
    },
    {
      "attachments": {},
      "cell_type": "markdown",
      "metadata": {
        "colab_type": "text",
        "id": "1PP-O8TOZOeo"
      },
      "source": [
        "## Task 4: Use the Test Dataset to Evaluate Your Model's Performance\n",
        "\n",
        "The test set usually acts as the ultimate judge of a model's quality. The test set can serve as an impartial judge because its examples haven't been used in training the model. Run the following code cell to evaluate the model with the test set:"
      ]
    },
    {
      "cell_type": "code",
      "execution_count": 16,
      "metadata": {
        "colab": {},
        "colab_type": "code",
        "id": "nd_Sw2cygOip"
      },
      "outputs": [
        {
          "name": "stdout",
          "output_type": "stream",
          "text": [
            "30/30 [==============================] - 0s 969us/step - loss: 7011.2222 - root_mean_squared_error: 83.7330\n"
          ]
        }
      ],
      "source": [
        "x_test = test_df[my_feature]\n",
        "y_test = test_df[my_label]\n",
        "\n",
        "results = my_model.evaluate(x_test, y_test, batch_size=batch_size)"
      ]
    },
    {
      "attachments": {},
      "cell_type": "markdown",
      "metadata": {
        "colab_type": "text",
        "id": "qoyQKvsjmV_A"
      },
      "source": [
        "Compare the root mean squared error of the model when evaluated on each of the three datasets:\n",
        "\n",
        "* training set: look for `root_mean_squared_error` in the final training epoch.\n",
        "* validation set: look for `val_root_mean_squared_error` in the final training epoch.\n",
        "* test set: run the preceding code cell and examine the `root_mean_squred_error`.\n",
        "\n",
        "Ideally, the root mean squared error of all three sets should be similar. Are they?"
      ]
    },
    {
      "cell_type": "code",
      "execution_count": null,
      "metadata": {
        "cellView": "form",
        "colab": {},
        "colab_type": "code",
        "id": "FxXtp-aVdIgJ"
      },
      "outputs": [],
      "source": [
        "#@title Double-click for an answer\n",
        "\n",
        "# In our experiments, yes, the rmse values \n",
        "# were similar enough. "
      ]
    }
  ],
  "metadata": {
    "colab": {
      "collapsed_sections": [],
      "name": "Validation and Test Sets.ipynb",
      "private_outputs": true,
      "provenance": []
    },
    "kernelspec": {
      "display_name": "Python 3",
      "name": "python3"
    },
    "language_info": {
      "codemirror_mode": {
        "name": "ipython",
        "version": 3
      },
      "file_extension": ".py",
      "mimetype": "text/x-python",
      "name": "python",
      "nbconvert_exporter": "python",
      "pygments_lexer": "ipython3",
      "version": "3.6.13"
    }
  },
  "nbformat": 4,
  "nbformat_minor": 0
}
